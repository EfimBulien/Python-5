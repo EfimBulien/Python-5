{
 "cells": [
  {
   "cell_type": "markdown",
   "source": [
    "В данной практической работе будет рассмотрен анализ датасета.\n",
    "Цель: научиться работать с библиотекой pandas в Python для обработки датасетов, используя файл Jupyter Notebook. Освоить базовые функции для работы с данными в форматах, таких как csv."
   ],
   "metadata": {
    "collapsed": false
   },
   "id": "dbd05821a949d8cd"
  },
  {
   "cell_type": "code",
   "execution_count": 12,
   "outputs": [
    {
     "data": {
      "text/plain": "              name  height   mass hair_color   skin_color eye_color  \\\n0   Luke Skywalker   172.0   77.0      blond         fair      blue   \n1            C-3PO   167.0   75.0        NaN         gold    yellow   \n2            R2-D2    96.0   32.0        NaN  white, blue       red   \n3      Darth Vader   202.0  136.0       none        white    yellow   \n4      Leia Organa   150.0   49.0      brown        light     brown   \n..             ...     ...    ...        ...          ...       ...   \n82             Rey     NaN    NaN      brown        light     hazel   \n83     Poe Dameron     NaN    NaN      brown        light     brown   \n84             BB8     NaN    NaN       none         none     black   \n85  Captain Phasma     NaN    NaN    unknown      unknown   unknown   \n86   Padmé Amidala   165.0   45.0      brown        light     brown   \n\n    birth_year     sex     gender homeworld species  \\\n0         19.0    male  masculine  Tatooine   Human   \n1        112.0    none  masculine  Tatooine   Droid   \n2         33.0    none  masculine     Naboo   Droid   \n3         41.9    male  masculine  Tatooine   Human   \n4         19.0  female   feminine  Alderaan   Human   \n..         ...     ...        ...       ...     ...   \n82         NaN  female   feminine       NaN   Human   \n83         NaN    male  masculine       NaN   Human   \n84         NaN    none  masculine       NaN   Droid   \n85         NaN     NaN        NaN       NaN     NaN   \n86        46.0  female   feminine     Naboo   Human   \n\n                                                films  \\\n0   The Empire Strikes Back, Revenge of the Sith, ...   \n1   The Empire Strikes Back, Attack of the Clones,...   \n2   The Empire Strikes Back, Attack of the Clones,...   \n3   The Empire Strikes Back, Revenge of the Sith, ...   \n4   The Empire Strikes Back, Revenge of the Sith, ...   \n..                                                ...   \n82                                  The Force Awakens   \n83                                  The Force Awakens   \n84                                  The Force Awakens   \n85                                  The Force Awakens   \n86  Attack of the Clones, The Phantom Menace, Reve...   \n\n                              vehicles  \\\n0   Snowspeeder, Imperial Speeder Bike   \n1                                  NaN   \n2                                  NaN   \n3                                  NaN   \n4                Imperial Speeder Bike   \n..                                 ...   \n82                                 NaN   \n83                                 NaN   \n84                                 NaN   \n85                                 NaN   \n86                                 NaN   \n\n                                            starships  \n0                            X-wing, Imperial shuttle  \n1                                                 NaN  \n2                                                 NaN  \n3                                     TIE Advanced x1  \n4                                                 NaN  \n..                                                ...  \n82                                                NaN  \n83                                T-70 X-wing fighter  \n84                                                NaN  \n85                                                NaN  \n86  H-type Nubian yacht, Naboo star skiff, Naboo f...  \n\n[87 rows x 14 columns]",
      "text/html": "<div>\n<style scoped>\n    .dataframe tbody tr th:only-of-type {\n        vertical-align: middle;\n    }\n\n    .dataframe tbody tr th {\n        vertical-align: top;\n    }\n\n    .dataframe thead th {\n        text-align: right;\n    }\n</style>\n<table border=\"1\" class=\"dataframe\">\n  <thead>\n    <tr style=\"text-align: right;\">\n      <th></th>\n      <th>name</th>\n      <th>height</th>\n      <th>mass</th>\n      <th>hair_color</th>\n      <th>skin_color</th>\n      <th>eye_color</th>\n      <th>birth_year</th>\n      <th>sex</th>\n      <th>gender</th>\n      <th>homeworld</th>\n      <th>species</th>\n      <th>films</th>\n      <th>vehicles</th>\n      <th>starships</th>\n    </tr>\n  </thead>\n  <tbody>\n    <tr>\n      <th>0</th>\n      <td>Luke Skywalker</td>\n      <td>172.0</td>\n      <td>77.0</td>\n      <td>blond</td>\n      <td>fair</td>\n      <td>blue</td>\n      <td>19.0</td>\n      <td>male</td>\n      <td>masculine</td>\n      <td>Tatooine</td>\n      <td>Human</td>\n      <td>The Empire Strikes Back, Revenge of the Sith, ...</td>\n      <td>Snowspeeder, Imperial Speeder Bike</td>\n      <td>X-wing, Imperial shuttle</td>\n    </tr>\n    <tr>\n      <th>1</th>\n      <td>C-3PO</td>\n      <td>167.0</td>\n      <td>75.0</td>\n      <td>NaN</td>\n      <td>gold</td>\n      <td>yellow</td>\n      <td>112.0</td>\n      <td>none</td>\n      <td>masculine</td>\n      <td>Tatooine</td>\n      <td>Droid</td>\n      <td>The Empire Strikes Back, Attack of the Clones,...</td>\n      <td>NaN</td>\n      <td>NaN</td>\n    </tr>\n    <tr>\n      <th>2</th>\n      <td>R2-D2</td>\n      <td>96.0</td>\n      <td>32.0</td>\n      <td>NaN</td>\n      <td>white, blue</td>\n      <td>red</td>\n      <td>33.0</td>\n      <td>none</td>\n      <td>masculine</td>\n      <td>Naboo</td>\n      <td>Droid</td>\n      <td>The Empire Strikes Back, Attack of the Clones,...</td>\n      <td>NaN</td>\n      <td>NaN</td>\n    </tr>\n    <tr>\n      <th>3</th>\n      <td>Darth Vader</td>\n      <td>202.0</td>\n      <td>136.0</td>\n      <td>none</td>\n      <td>white</td>\n      <td>yellow</td>\n      <td>41.9</td>\n      <td>male</td>\n      <td>masculine</td>\n      <td>Tatooine</td>\n      <td>Human</td>\n      <td>The Empire Strikes Back, Revenge of the Sith, ...</td>\n      <td>NaN</td>\n      <td>TIE Advanced x1</td>\n    </tr>\n    <tr>\n      <th>4</th>\n      <td>Leia Organa</td>\n      <td>150.0</td>\n      <td>49.0</td>\n      <td>brown</td>\n      <td>light</td>\n      <td>brown</td>\n      <td>19.0</td>\n      <td>female</td>\n      <td>feminine</td>\n      <td>Alderaan</td>\n      <td>Human</td>\n      <td>The Empire Strikes Back, Revenge of the Sith, ...</td>\n      <td>Imperial Speeder Bike</td>\n      <td>NaN</td>\n    </tr>\n    <tr>\n      <th>...</th>\n      <td>...</td>\n      <td>...</td>\n      <td>...</td>\n      <td>...</td>\n      <td>...</td>\n      <td>...</td>\n      <td>...</td>\n      <td>...</td>\n      <td>...</td>\n      <td>...</td>\n      <td>...</td>\n      <td>...</td>\n      <td>...</td>\n      <td>...</td>\n    </tr>\n    <tr>\n      <th>82</th>\n      <td>Rey</td>\n      <td>NaN</td>\n      <td>NaN</td>\n      <td>brown</td>\n      <td>light</td>\n      <td>hazel</td>\n      <td>NaN</td>\n      <td>female</td>\n      <td>feminine</td>\n      <td>NaN</td>\n      <td>Human</td>\n      <td>The Force Awakens</td>\n      <td>NaN</td>\n      <td>NaN</td>\n    </tr>\n    <tr>\n      <th>83</th>\n      <td>Poe Dameron</td>\n      <td>NaN</td>\n      <td>NaN</td>\n      <td>brown</td>\n      <td>light</td>\n      <td>brown</td>\n      <td>NaN</td>\n      <td>male</td>\n      <td>masculine</td>\n      <td>NaN</td>\n      <td>Human</td>\n      <td>The Force Awakens</td>\n      <td>NaN</td>\n      <td>T-70 X-wing fighter</td>\n    </tr>\n    <tr>\n      <th>84</th>\n      <td>BB8</td>\n      <td>NaN</td>\n      <td>NaN</td>\n      <td>none</td>\n      <td>none</td>\n      <td>black</td>\n      <td>NaN</td>\n      <td>none</td>\n      <td>masculine</td>\n      <td>NaN</td>\n      <td>Droid</td>\n      <td>The Force Awakens</td>\n      <td>NaN</td>\n      <td>NaN</td>\n    </tr>\n    <tr>\n      <th>85</th>\n      <td>Captain Phasma</td>\n      <td>NaN</td>\n      <td>NaN</td>\n      <td>unknown</td>\n      <td>unknown</td>\n      <td>unknown</td>\n      <td>NaN</td>\n      <td>NaN</td>\n      <td>NaN</td>\n      <td>NaN</td>\n      <td>NaN</td>\n      <td>The Force Awakens</td>\n      <td>NaN</td>\n      <td>NaN</td>\n    </tr>\n    <tr>\n      <th>86</th>\n      <td>Padmé Amidala</td>\n      <td>165.0</td>\n      <td>45.0</td>\n      <td>brown</td>\n      <td>light</td>\n      <td>brown</td>\n      <td>46.0</td>\n      <td>female</td>\n      <td>feminine</td>\n      <td>Naboo</td>\n      <td>Human</td>\n      <td>Attack of the Clones, The Phantom Menace, Reve...</td>\n      <td>NaN</td>\n      <td>H-type Nubian yacht, Naboo star skiff, Naboo f...</td>\n    </tr>\n  </tbody>\n</table>\n<p>87 rows × 14 columns</p>\n</div>"
     },
     "execution_count": 12,
     "metadata": {},
     "output_type": "execute_result"
    }
   ],
   "source": [
    "import pandas as pd\n",
    "data = pd.read_csv('star_wars_character_dataset.csv')\n",
    "data"
   ],
   "metadata": {
    "collapsed": false,
    "ExecuteTime": {
     "end_time": "2023-12-17T12:57:07.052155100Z",
     "start_time": "2023-12-17T12:57:06.970691600Z"
    }
   },
   "id": "7387dbd53c0f4222"
  },
  {
   "cell_type": "markdown",
   "source": [
    "В данном блоке кода мы импортируем библиотеку pandas, с помощью метода из данной библиотеки идет чтение и запись нашего датасета в переменную. Вывод полного датасета.\n",
    "Данный датасет представляет собой информацию о персонажах франшизы «Звёздные войны» (Star Wars). В полях описаны различные данные по тому или иному персонажу, такие как: вес, рост, участие в фильмах и тп.\n",
    "Давайте выведем информацию о датасете."
   ],
   "metadata": {
    "collapsed": false
   },
   "id": "678b5a28d61cac8e"
  },
  {
   "cell_type": "code",
   "execution_count": 13,
   "outputs": [
    {
     "name": "stdout",
     "output_type": "stream",
     "text": [
      "<class 'pandas.core.frame.DataFrame'>\n",
      "RangeIndex: 87 entries, 0 to 86\n",
      "Data columns (total 14 columns):\n",
      " #   Column      Non-Null Count  Dtype  \n",
      "---  ------      --------------  -----  \n",
      " 0   name        87 non-null     object \n",
      " 1   height      81 non-null     float64\n",
      " 2   mass        59 non-null     float64\n",
      " 3   hair_color  82 non-null     object \n",
      " 4   skin_color  87 non-null     object \n",
      " 5   eye_color   87 non-null     object \n",
      " 6   birth_year  43 non-null     float64\n",
      " 7   sex         83 non-null     object \n",
      " 8   gender      83 non-null     object \n",
      " 9   homeworld   77 non-null     object \n",
      " 10  species     83 non-null     object \n",
      " 11  films       87 non-null     object \n",
      " 12  vehicles    11 non-null     object \n",
      " 13  starships   20 non-null     object \n",
      "dtypes: float64(3), object(11)\n",
      "memory usage: 9.6+ KB\n"
     ]
    }
   ],
   "source": [
    "data.info()"
   ],
   "metadata": {
    "collapsed": false,
    "ExecuteTime": {
     "end_time": "2023-12-17T12:57:07.078034800Z",
     "start_time": "2023-12-17T12:57:07.061904400Z"
    }
   },
   "id": "fb9c9a734aa048ea"
  },
  {
   "cell_type": "markdown",
   "source": [
    "Как вы можете видеть, здесь представлена полная информация о нашем датасете от названия колонок до типа данных, используемых в столбце и занимаегого места файлом.\n",
    "Теперь перейдем к описанию датасета."
   ],
   "metadata": {
    "collapsed": false
   },
   "id": "c212f92e39ce5397"
  },
  {
   "cell_type": "code",
   "execution_count": 14,
   "outputs": [
    {
     "data": {
      "text/plain": "           height         mass  birth_year\ncount   81.000000    59.000000   43.000000\nmean   174.358025    97.311864   87.565116\nstd     34.770429   169.457163  154.691439\nmin     66.000000    15.000000    8.000000\n25%    167.000000    55.600000   35.000000\n50%    180.000000    79.000000   52.000000\n75%    191.000000    84.500000   72.000000\nmax    264.000000  1358.000000  896.000000",
      "text/html": "<div>\n<style scoped>\n    .dataframe tbody tr th:only-of-type {\n        vertical-align: middle;\n    }\n\n    .dataframe tbody tr th {\n        vertical-align: top;\n    }\n\n    .dataframe thead th {\n        text-align: right;\n    }\n</style>\n<table border=\"1\" class=\"dataframe\">\n  <thead>\n    <tr style=\"text-align: right;\">\n      <th></th>\n      <th>height</th>\n      <th>mass</th>\n      <th>birth_year</th>\n    </tr>\n  </thead>\n  <tbody>\n    <tr>\n      <th>count</th>\n      <td>81.000000</td>\n      <td>59.000000</td>\n      <td>43.000000</td>\n    </tr>\n    <tr>\n      <th>mean</th>\n      <td>174.358025</td>\n      <td>97.311864</td>\n      <td>87.565116</td>\n    </tr>\n    <tr>\n      <th>std</th>\n      <td>34.770429</td>\n      <td>169.457163</td>\n      <td>154.691439</td>\n    </tr>\n    <tr>\n      <th>min</th>\n      <td>66.000000</td>\n      <td>15.000000</td>\n      <td>8.000000</td>\n    </tr>\n    <tr>\n      <th>25%</th>\n      <td>167.000000</td>\n      <td>55.600000</td>\n      <td>35.000000</td>\n    </tr>\n    <tr>\n      <th>50%</th>\n      <td>180.000000</td>\n      <td>79.000000</td>\n      <td>52.000000</td>\n    </tr>\n    <tr>\n      <th>75%</th>\n      <td>191.000000</td>\n      <td>84.500000</td>\n      <td>72.000000</td>\n    </tr>\n    <tr>\n      <th>max</th>\n      <td>264.000000</td>\n      <td>1358.000000</td>\n      <td>896.000000</td>\n    </tr>\n  </tbody>\n</table>\n</div>"
     },
     "execution_count": 14,
     "metadata": {},
     "output_type": "execute_result"
    }
   ],
   "source": [
    "data.describe()"
   ],
   "metadata": {
    "collapsed": false,
    "ExecuteTime": {
     "end_time": "2023-12-17T12:57:07.215794800Z",
     "start_time": "2023-12-17T12:57:07.087846400Z"
    }
   },
   "id": "e424049d354da903"
  },
  {
   "cell_type": "markdown",
   "source": [
    "Описание датасета представляет собой аналитическую информацию о численных данных данного датасета: минимальные и максимальные значения, среднее значение и тд. Давайте опишем все наши колонки."
   ],
   "metadata": {
    "collapsed": false
   },
   "id": "568b8e688949157b"
  },
  {
   "cell_type": "code",
   "execution_count": 15,
   "outputs": [
    {
     "data": {
      "text/plain": "                  name      height         mass hair_color skin_color  \\\ncount               87   81.000000    59.000000         82         87   \nunique              87         NaN          NaN         12         31   \ntop     Luke Skywalker         NaN          NaN       none       fair   \nfreq                 1         NaN          NaN         37         17   \nmean               NaN  174.358025    97.311864        NaN        NaN   \nstd                NaN   34.770429   169.457163        NaN        NaN   \nmin                NaN   66.000000    15.000000        NaN        NaN   \n25%                NaN  167.000000    55.600000        NaN        NaN   \n50%                NaN  180.000000    79.000000        NaN        NaN   \n75%                NaN  191.000000    84.500000        NaN        NaN   \nmax                NaN  264.000000  1358.000000        NaN        NaN   \n\n       eye_color  birth_year   sex     gender homeworld species  \\\ncount         87   43.000000    83         83        77      83   \nunique        15         NaN     4          2        48      37   \ntop        brown         NaN  male  masculine     Naboo   Human   \nfreq          21         NaN    60         66        11      35   \nmean         NaN   87.565116   NaN        NaN       NaN     NaN   \nstd          NaN  154.691439   NaN        NaN       NaN     NaN   \nmin          NaN    8.000000   NaN        NaN       NaN     NaN   \n25%          NaN   35.000000   NaN        NaN       NaN     NaN   \n50%          NaN   52.000000   NaN        NaN       NaN     NaN   \n75%          NaN   72.000000   NaN        NaN       NaN     NaN   \nmax          NaN  896.000000   NaN        NaN       NaN     NaN   \n\n                       films         vehicles starships  \ncount                     87               11        20  \nunique                    24               10        16  \ntop     Attack of the Clones  Tribubble bongo    X-wing  \nfreq                      13                2         3  \nmean                     NaN              NaN       NaN  \nstd                      NaN              NaN       NaN  \nmin                      NaN              NaN       NaN  \n25%                      NaN              NaN       NaN  \n50%                      NaN              NaN       NaN  \n75%                      NaN              NaN       NaN  \nmax                      NaN              NaN       NaN  ",
      "text/html": "<div>\n<style scoped>\n    .dataframe tbody tr th:only-of-type {\n        vertical-align: middle;\n    }\n\n    .dataframe tbody tr th {\n        vertical-align: top;\n    }\n\n    .dataframe thead th {\n        text-align: right;\n    }\n</style>\n<table border=\"1\" class=\"dataframe\">\n  <thead>\n    <tr style=\"text-align: right;\">\n      <th></th>\n      <th>name</th>\n      <th>height</th>\n      <th>mass</th>\n      <th>hair_color</th>\n      <th>skin_color</th>\n      <th>eye_color</th>\n      <th>birth_year</th>\n      <th>sex</th>\n      <th>gender</th>\n      <th>homeworld</th>\n      <th>species</th>\n      <th>films</th>\n      <th>vehicles</th>\n      <th>starships</th>\n    </tr>\n  </thead>\n  <tbody>\n    <tr>\n      <th>count</th>\n      <td>87</td>\n      <td>81.000000</td>\n      <td>59.000000</td>\n      <td>82</td>\n      <td>87</td>\n      <td>87</td>\n      <td>43.000000</td>\n      <td>83</td>\n      <td>83</td>\n      <td>77</td>\n      <td>83</td>\n      <td>87</td>\n      <td>11</td>\n      <td>20</td>\n    </tr>\n    <tr>\n      <th>unique</th>\n      <td>87</td>\n      <td>NaN</td>\n      <td>NaN</td>\n      <td>12</td>\n      <td>31</td>\n      <td>15</td>\n      <td>NaN</td>\n      <td>4</td>\n      <td>2</td>\n      <td>48</td>\n      <td>37</td>\n      <td>24</td>\n      <td>10</td>\n      <td>16</td>\n    </tr>\n    <tr>\n      <th>top</th>\n      <td>Luke Skywalker</td>\n      <td>NaN</td>\n      <td>NaN</td>\n      <td>none</td>\n      <td>fair</td>\n      <td>brown</td>\n      <td>NaN</td>\n      <td>male</td>\n      <td>masculine</td>\n      <td>Naboo</td>\n      <td>Human</td>\n      <td>Attack of the Clones</td>\n      <td>Tribubble bongo</td>\n      <td>X-wing</td>\n    </tr>\n    <tr>\n      <th>freq</th>\n      <td>1</td>\n      <td>NaN</td>\n      <td>NaN</td>\n      <td>37</td>\n      <td>17</td>\n      <td>21</td>\n      <td>NaN</td>\n      <td>60</td>\n      <td>66</td>\n      <td>11</td>\n      <td>35</td>\n      <td>13</td>\n      <td>2</td>\n      <td>3</td>\n    </tr>\n    <tr>\n      <th>mean</th>\n      <td>NaN</td>\n      <td>174.358025</td>\n      <td>97.311864</td>\n      <td>NaN</td>\n      <td>NaN</td>\n      <td>NaN</td>\n      <td>87.565116</td>\n      <td>NaN</td>\n      <td>NaN</td>\n      <td>NaN</td>\n      <td>NaN</td>\n      <td>NaN</td>\n      <td>NaN</td>\n      <td>NaN</td>\n    </tr>\n    <tr>\n      <th>std</th>\n      <td>NaN</td>\n      <td>34.770429</td>\n      <td>169.457163</td>\n      <td>NaN</td>\n      <td>NaN</td>\n      <td>NaN</td>\n      <td>154.691439</td>\n      <td>NaN</td>\n      <td>NaN</td>\n      <td>NaN</td>\n      <td>NaN</td>\n      <td>NaN</td>\n      <td>NaN</td>\n      <td>NaN</td>\n    </tr>\n    <tr>\n      <th>min</th>\n      <td>NaN</td>\n      <td>66.000000</td>\n      <td>15.000000</td>\n      <td>NaN</td>\n      <td>NaN</td>\n      <td>NaN</td>\n      <td>8.000000</td>\n      <td>NaN</td>\n      <td>NaN</td>\n      <td>NaN</td>\n      <td>NaN</td>\n      <td>NaN</td>\n      <td>NaN</td>\n      <td>NaN</td>\n    </tr>\n    <tr>\n      <th>25%</th>\n      <td>NaN</td>\n      <td>167.000000</td>\n      <td>55.600000</td>\n      <td>NaN</td>\n      <td>NaN</td>\n      <td>NaN</td>\n      <td>35.000000</td>\n      <td>NaN</td>\n      <td>NaN</td>\n      <td>NaN</td>\n      <td>NaN</td>\n      <td>NaN</td>\n      <td>NaN</td>\n      <td>NaN</td>\n    </tr>\n    <tr>\n      <th>50%</th>\n      <td>NaN</td>\n      <td>180.000000</td>\n      <td>79.000000</td>\n      <td>NaN</td>\n      <td>NaN</td>\n      <td>NaN</td>\n      <td>52.000000</td>\n      <td>NaN</td>\n      <td>NaN</td>\n      <td>NaN</td>\n      <td>NaN</td>\n      <td>NaN</td>\n      <td>NaN</td>\n      <td>NaN</td>\n    </tr>\n    <tr>\n      <th>75%</th>\n      <td>NaN</td>\n      <td>191.000000</td>\n      <td>84.500000</td>\n      <td>NaN</td>\n      <td>NaN</td>\n      <td>NaN</td>\n      <td>72.000000</td>\n      <td>NaN</td>\n      <td>NaN</td>\n      <td>NaN</td>\n      <td>NaN</td>\n      <td>NaN</td>\n      <td>NaN</td>\n      <td>NaN</td>\n    </tr>\n    <tr>\n      <th>max</th>\n      <td>NaN</td>\n      <td>264.000000</td>\n      <td>1358.000000</td>\n      <td>NaN</td>\n      <td>NaN</td>\n      <td>NaN</td>\n      <td>896.000000</td>\n      <td>NaN</td>\n      <td>NaN</td>\n      <td>NaN</td>\n      <td>NaN</td>\n      <td>NaN</td>\n      <td>NaN</td>\n      <td>NaN</td>\n    </tr>\n  </tbody>\n</table>\n</div>"
     },
     "execution_count": 15,
     "metadata": {},
     "output_type": "execute_result"
    }
   ],
   "source": [
    "data.describe(include='all')"
   ],
   "metadata": {
    "collapsed": false,
    "ExecuteTime": {
     "end_time": "2023-12-17T12:57:07.337868900Z",
     "start_time": "2023-12-17T12:57:07.164541900Z"
    }
   },
   "id": "5b0d2f3924f7f106"
  },
  {
   "cell_type": "markdown",
   "source": [
    "В данном примере мы видим, что мы получили описания всех представленных данных из датасета. Давайте же узнаем размерность нашего массива."
   ],
   "metadata": {
    "collapsed": false
   },
   "id": "e640bdbc12ff9367"
  },
  {
   "cell_type": "code",
   "execution_count": 16,
   "outputs": [
    {
     "name": "stdout",
     "output_type": "stream",
     "text": [
      "Размерность массива: (87, 14)\n"
     ]
    }
   ],
   "source": [
    "print(\"Размерность массива:\", data.shape)"
   ],
   "metadata": {
    "collapsed": false,
    "ExecuteTime": {
     "end_time": "2023-12-17T12:57:07.376095900Z",
     "start_time": "2023-12-17T12:57:07.276256300Z"
    }
   },
   "id": "fdb1da090cd9f3b3"
  },
  {
   "cell_type": "markdown",
   "source": [
    "Как мы видим, размернось массива составляет 87 строчек и 14 столбцов. Давайте опишем каждый столбец."
   ],
   "metadata": {
    "collapsed": false
   },
   "id": "59794876fbf6c0ad"
  },
  {
   "cell_type": "code",
   "execution_count": 17,
   "outputs": [
    {
     "name": "stdout",
     "output_type": "stream",
     "text": [
      "Перечисление названий всех колонок: Index(['name', 'height', 'mass', 'hair_color', 'skin_color', 'eye_color',\n",
      "       'birth_year', 'sex', 'gender', 'homeworld', 'species', 'films',\n",
      "       'vehicles', 'starships'],\n",
      "      dtype='object')\n",
      "Описание колонки 'name': имя персонажа\n",
      "Описание колонки 'height': рост персонажа\n",
      "Описание колонки 'mass': вес(масса) персонажа\n",
      "Описание колонки 'hair_color': цвет волос персонажа\n",
      "Описание колонки 'eye_color': цвет глаз персонажа\n",
      "Описание колонки 'birth_year': возраст персонажа\n",
      "Описание колонки 'sex': пол персонажа\n",
      "Описание колонки 'gender': гендер персонажа\n",
      "Описание колонки 'homeworld': родина персонажа\n",
      "Описание колонки 'species': раса персонажа\n",
      "Описание колонки 'films': участия в фильмах персонажа\n",
      "Описание колонки 'vehicles': транспортные средства персонажа\n",
      "Описание колонки 'starships': корабли персонажа\n"
     ]
    }
   ],
   "source": [
    "column_names = data.columns\n",
    "print(\"Перечисление названий всех колонок:\", column_names)\n",
    "for column in column_names:\n",
    "    match column:\n",
    "        case 'name':\n",
    "            description = \"Описание колонки '{}': имя персонажа\".format(column)\n",
    "            print(description)\n",
    "        case 'height':\n",
    "            description = \"Описание колонки '{}': рост персонажа\".format(column)\n",
    "            print(description)\n",
    "        case 'mass':\n",
    "            description = \"Описание колонки '{}': вес(масса) персонажа\".format(column)\n",
    "            print(description)\n",
    "        case 'hair_color':\n",
    "            description = \"Описание колонки '{}': цвет волос персонажа\".format(column)\n",
    "            print(description)\n",
    "        case 'eye_color':\n",
    "            description = \"Описание колонки '{}': цвет глаз персонажа\".format(column)\n",
    "            print(description)\n",
    "        case 'birth_year':\n",
    "            description = \"Описание колонки '{}': возраст персонажа\".format(column)\n",
    "            print(description)\n",
    "        case 'sex':\n",
    "            description = \"Описание колонки '{}': пол персонажа\".format(column)\n",
    "            print(description)\n",
    "        case 'gender':\n",
    "            description = \"Описание колонки '{}': гендер персонажа\".format(column)\n",
    "            print(description)\n",
    "        case 'homeworld':\n",
    "            description = \"Описание колонки '{}': родина персонажа\".format(column)\n",
    "            print(description)\n",
    "        case 'species':\n",
    "            description = \"Описание колонки '{}': раса персонажа\".format(column)\n",
    "            print(description)\n",
    "        case 'films':\n",
    "            description = \"Описание колонки '{}': участия в фильмах персонажа\".format(column)\n",
    "            print(description)\n",
    "        case 'vehicles':\n",
    "            description = \"Описание колонки '{}': транспортные средства персонажа\".format(column)\n",
    "            print(description)\n",
    "        case 'starships':\n",
    "            description = \"Описание колонки '{}': корабли персонажа\".format(column)\n",
    "            print(description)"
   ],
   "metadata": {
    "collapsed": false,
    "ExecuteTime": {
     "end_time": "2023-12-17T12:57:07.511472300Z",
     "start_time": "2023-12-17T12:57:07.388921900Z"
    }
   },
   "id": "7bc2f39a5265d396"
  },
  {
   "cell_type": "markdown",
   "source": [
    "Итак, мы получили описание каждой колонки и названия всех колонок с их типом. Выведем все уникальные значения массива."
   ],
   "metadata": {
    "collapsed": false
   },
   "id": "4f38e5e93fbfeed4"
  },
  {
   "cell_type": "code",
   "execution_count": 18,
   "outputs": [
    {
     "name": "stdout",
     "output_type": "stream",
     "text": [
      "Уникальные значения для колонки 'name': ['Luke Skywalker' 'C-3PO' 'R2-D2' 'Darth Vader' 'Leia Organa' 'Owen Lars'\n",
      " 'Beru Whitesun lars' 'R5-D4' 'Biggs Darklighter' 'Obi-Wan Kenobi'\n",
      " 'Anakin Skywalker' 'Wilhuff Tarkin' 'Chewbacca' 'Han Solo' 'Greedo'\n",
      " 'Jabba Desilijic Tiure' 'Wedge Antilles' 'Jek Tono Porkins' 'Yoda'\n",
      " 'Palpatine' 'Boba Fett' 'IG-88' 'Bossk' 'Lando Calrissian' 'Lobot'\n",
      " 'Ackbar' 'Mon Mothma' 'Arvel Crynyd' 'Wicket Systri Warrick' 'Nien Nunb'\n",
      " 'Qui-Gon Jinn' 'Nute Gunray' 'Finis Valorum' 'Jar Jar Binks'\n",
      " 'Roos Tarpals' 'Rugor Nass' 'Ric Olié' 'Watto' 'Sebulba' 'Quarsh Panaka'\n",
      " 'Shmi Skywalker' 'Darth Maul' 'Bib Fortuna' 'Ayla Secura' 'Dud Bolt'\n",
      " 'Gasgano' 'Ben Quadinaros' 'Mace Windu' 'Ki-Adi-Mundi' 'Kit Fisto'\n",
      " 'Eeth Koth' 'Adi Gallia' 'Saesee Tiin' 'Yarael Poof' 'Plo Koon'\n",
      " 'Mas Amedda' 'Gregar Typho' 'Cordé' 'Cliegg Lars' 'Poggle the Lesser'\n",
      " 'Luminara Unduli' 'Barriss Offee' 'Dormé' 'Dooku' 'Bail Prestor Organa'\n",
      " 'Jango Fett' 'Zam Wesell' 'Dexter Jettster' 'Lama Su' 'Taun We'\n",
      " 'Jocasta Nu' 'Ratts Tyerell' 'R4-P17' 'Wat Tambor' 'San Hill' 'Shaak Ti'\n",
      " 'Grievous' 'Tarfful' 'Raymus Antilles' 'Sly Moore' 'Tion Medon' 'Finn'\n",
      " 'Rey' 'Poe Dameron' 'BB8' 'Captain Phasma' 'Padmé Amidala']\n",
      "Уникальные значения для колонки 'height': [172. 167.  96. 202. 150. 178. 165.  97. 183. 182. 188. 180. 228. 173.\n",
      " 175. 170.  66. 200. 190. 177.  nan  88. 160. 193. 191. 196. 224. 206.\n",
      " 137. 112. 163.  94. 122. 198. 171. 184. 264. 185. 157. 166. 168. 229.\n",
      " 213.  79. 216. 234.]\n",
      "Уникальные значения для колонки 'mass': [  77.    75.    32.   136.    49.   120.    84.     nan  112.    80.\n",
      "   74.  1358.   110.    17.    78.2  140.   113.    79.    83.    20.\n",
      "   68.    89.    90.    66.    82.    40.    55.    45.    65.    87.\n",
      "   50.    85.    56.2  102.    88.    15.    48.    57.   159. ]\n",
      "Уникальные значения для колонки 'hair_color': ['blond' nan 'none' 'brown' 'brown, grey' 'black' 'auburn, white'\n",
      " 'auburn, grey' 'white' 'grey' 'auburn' 'blonde' 'unknown']\n",
      "Уникальные значения для колонки 'skin_color': ['fair' 'gold' 'white, blue' 'white' 'light' 'white, red' 'unknown'\n",
      " 'green' 'green-tan, brown' 'pale' 'metal' 'dark' 'brown mottle' 'brown'\n",
      " 'grey' 'mottled green' 'orange' 'blue, grey' 'grey, red' 'red' 'blue'\n",
      " 'grey, green, yellow' 'yellow' 'tan' 'fair, green, yellow' 'grey, blue'\n",
      " 'silver, red' 'green, grey' 'red, blue, white' 'brown, white' 'none']\n",
      "Уникальные значения для колонки 'eye_color': ['blue' 'yellow' 'red' 'brown' 'blue-gray' 'black' 'orange' 'hazel' 'pink'\n",
      " 'unknown' 'red, blue' 'gold' 'green, yellow' 'white' 'dark']\n",
      "Уникальные значения для колонки 'birth_year': [ 19.  112.   33.   41.9  52.   47.    nan  24.   57.   64.  200.   29.\n",
      "  44.  600.   21.  896.   82.   31.5  15.   53.   31.   37.   41.   48.\n",
      "   8.   92.   91.   62.   72.   54.   22.   58.   40.  102.   67.   66.\n",
      "  46. ]\n",
      "Уникальные значения для колонки 'sex': ['male' 'none' 'female' 'hermaphroditic' nan]\n",
      "Уникальные значения для колонки 'gender': ['masculine' 'feminine' nan]\n",
      "Уникальные значения для колонки 'homeworld': ['Tatooine' 'Naboo' 'Alderaan' 'Stewjon' 'Eriadu' 'Kashyyyk' 'Corellia'\n",
      " 'Rodia' 'Nal Hutta' 'Bestine IV' nan 'Kamino' 'Trandosha' 'Socorro'\n",
      " 'Bespin' 'Mon Cala' 'Chandrila' 'Endor' 'Sullust' 'Cato Neimoidia'\n",
      " 'Coruscant' 'Toydaria' 'Malastare' 'Dathomir' 'Ryloth' 'Vulpter'\n",
      " 'Troiken' 'Tund' 'Haruun Kal' 'Cerea' 'Glee Anselm' 'Iridonia' 'Iktotch'\n",
      " 'Quermia' 'Dorin' 'Champala' 'Geonosis' 'Mirial' 'Serenno' 'Concord Dawn'\n",
      " 'Zolan' 'Ojom' 'Aleen Minor' 'Skako' 'Muunilinst' 'Shili' 'Kalee'\n",
      " 'Umbara' 'Utapau']\n",
      "Уникальные значения для колонки 'species': ['Human' 'Droid' 'Wookiee' 'Rodian' 'Hutt' \"Yoda's species\" 'Trandoshan'\n",
      " 'Mon Calamari' 'Ewok' 'Sullustan' 'Neimodian' 'Gungan' nan 'Toydarian'\n",
      " 'Dug' 'Zabrak' \"Twi'lek\" 'Vulptereen' 'Xexto' 'Toong' 'Cerean' 'Nautolan'\n",
      " 'Tholothian' 'Iktotchi' 'Quermian' 'Kel Dor' 'Chagrian' 'Geonosian'\n",
      " 'Mirialan' 'Clawdite' 'Besalisk' 'Kaminoan' 'Aleena' 'Skakoan' 'Muun'\n",
      " 'Togruta' 'Kaleesh' \"Pau'an\"]\n",
      "Уникальные значения для колонки 'films': ['The Empire Strikes Back, Revenge of the Sith, Return of the Jedi, A New Hope, The Force Awakens'\n",
      " 'The Empire Strikes Back, Attack of the Clones, The Phantom Menace, Revenge of the Sith, Return of the Jedi, A New Hope'\n",
      " 'The Empire Strikes Back, Attack of the Clones, The Phantom Menace, Revenge of the Sith, Return of the Jedi, A New Hope, The Force Awakens'\n",
      " 'The Empire Strikes Back, Revenge of the Sith, Return of the Jedi, A New Hope'\n",
      " 'Attack of the Clones, Revenge of the Sith, A New Hope' 'A New Hope'\n",
      " 'Attack of the Clones, The Phantom Menace, Revenge of the Sith'\n",
      " 'Revenge of the Sith, A New Hope'\n",
      " 'The Empire Strikes Back, Return of the Jedi, A New Hope, The Force Awakens'\n",
      " 'The Phantom Menace, Return of the Jedi, A New Hope'\n",
      " 'The Empire Strikes Back, Return of the Jedi, A New Hope'\n",
      " 'The Empire Strikes Back, Attack of the Clones, The Phantom Menace, Revenge of the Sith, Return of the Jedi'\n",
      " 'The Empire Strikes Back, Attack of the Clones, Return of the Jedi'\n",
      " 'The Empire Strikes Back' 'The Empire Strikes Back, Return of the Jedi'\n",
      " 'Return of the Jedi, The Force Awakens' 'Return of the Jedi'\n",
      " 'The Phantom Menace' 'Attack of the Clones, The Phantom Menace'\n",
      " 'The Phantom Menace, Revenge of the Sith' 'Attack of the Clones'\n",
      " 'Attack of the Clones, Revenge of the Sith' 'Revenge of the Sith'\n",
      " 'The Force Awakens']\n",
      "Уникальные значения для колонки 'vehicles': ['Snowspeeder, Imperial Speeder Bike' nan 'Imperial Speeder Bike'\n",
      " 'Tribubble bongo' 'Zephyr-G swoop bike, XJ-6 airspeeder' 'AT-ST'\n",
      " 'Snowspeeder' 'Sith speeder' 'Flitknot speeder'\n",
      " 'Koro-2 Exodrive airspeeder' 'Tsmeu-6 personal wheel bike']\n",
      "Уникальные значения для колонки 'starships': ['X-wing, Imperial shuttle' nan 'TIE Advanced x1' 'X-wing'\n",
      " 'Jedi starfighter, Trade Federation cruiser, Naboo star skiff, Jedi Interceptor, Belbullab-22 starfighter'\n",
      " 'Trade Federation cruiser, Jedi Interceptor, Naboo fighter'\n",
      " 'Millennium Falcon, Imperial shuttle' 'Slave 1' 'Millennium Falcon'\n",
      " 'A-wing' 'Naboo Royal Starship' 'Scimitar' 'Jedi starfighter'\n",
      " 'Naboo fighter' 'Belbullab-22 starfighter' 'T-70 X-wing fighter'\n",
      " 'H-type Nubian yacht, Naboo star skiff, Naboo fighter']\n"
     ]
    }
   ],
   "source": [
    "for column in column_names:\n",
    "    unique_values = data[column].unique()\n",
    "    print(\"Уникальные значения для колонки '{}': {}\".format(column, unique_values))"
   ],
   "metadata": {
    "collapsed": false,
    "ExecuteTime": {
     "end_time": "2023-12-17T12:57:07.584920700Z",
     "start_time": "2023-12-17T12:57:07.489340300Z"
    }
   },
   "id": "7e2171aee4835511"
  },
  {
   "cell_type": "markdown",
   "source": [
    "Мы вывели все уникальные значения для каждой из колонок. Теперь стоит отсортировать значения по одному из параметров."
   ],
   "metadata": {
    "collapsed": false
   },
   "id": "efb2ee83cb092300"
  },
  {
   "cell_type": "code",
   "execution_count": 20,
   "outputs": [
    {
     "data": {
      "text/plain": "                     name  height    mass hair_color        skin_color  \\\n18                   Yoda    66.0    17.0      white             green   \n15  Jabba Desilijic Tiure   175.0  1358.0        NaN  green-tan, brown   \n12              Chewbacca   228.0   112.0      brown           unknown   \n1                   C-3PO   167.0    75.0        NaN              gold   \n63                  Dooku   193.0    80.0      white              fair   \n..                    ...     ...     ...        ...               ...   \n81                   Finn     NaN     NaN      black              dark   \n82                    Rey     NaN     NaN      brown             light   \n83            Poe Dameron     NaN     NaN      brown             light   \n84                    BB8     NaN     NaN       none              none   \n85         Captain Phasma     NaN     NaN    unknown           unknown   \n\n   eye_color  birth_year             sex     gender  homeworld  \\\n18     brown       896.0            male  masculine        NaN   \n15    orange       600.0  hermaphroditic  masculine  Nal Hutta   \n12      blue       200.0            male  masculine   Kashyyyk   \n1     yellow       112.0            none  masculine   Tatooine   \n63     brown       102.0            male  masculine    Serenno   \n..       ...         ...             ...        ...        ...   \n81      dark         NaN            male  masculine        NaN   \n82     hazel         NaN          female   feminine        NaN   \n83     brown         NaN            male  masculine        NaN   \n84     black         NaN            none  masculine        NaN   \n85   unknown         NaN             NaN        NaN        NaN   \n\n           species                                              films  \\\n18  Yoda's species  The Empire Strikes Back, Attack of the Clones,...   \n15            Hutt  The Phantom Menace, Return of the Jedi, A New ...   \n12         Wookiee  The Empire Strikes Back, Revenge of the Sith, ...   \n1            Droid  The Empire Strikes Back, Attack of the Clones,...   \n63           Human          Attack of the Clones, Revenge of the Sith   \n..             ...                                                ...   \n81           Human                                  The Force Awakens   \n82           Human                                  The Force Awakens   \n83           Human                                  The Force Awakens   \n84           Droid                                  The Force Awakens   \n85             NaN                                  The Force Awakens   \n\n            vehicles                            starships  \n18               NaN                                  NaN  \n15               NaN                                  NaN  \n12             AT-ST  Millennium Falcon, Imperial shuttle  \n1                NaN                                  NaN  \n63  Flitknot speeder                                  NaN  \n..               ...                                  ...  \n81               NaN                                  NaN  \n82               NaN                                  NaN  \n83               NaN                  T-70 X-wing fighter  \n84               NaN                                  NaN  \n85               NaN                                  NaN  \n\n[87 rows x 14 columns]",
      "text/html": "<div>\n<style scoped>\n    .dataframe tbody tr th:only-of-type {\n        vertical-align: middle;\n    }\n\n    .dataframe tbody tr th {\n        vertical-align: top;\n    }\n\n    .dataframe thead th {\n        text-align: right;\n    }\n</style>\n<table border=\"1\" class=\"dataframe\">\n  <thead>\n    <tr style=\"text-align: right;\">\n      <th></th>\n      <th>name</th>\n      <th>height</th>\n      <th>mass</th>\n      <th>hair_color</th>\n      <th>skin_color</th>\n      <th>eye_color</th>\n      <th>birth_year</th>\n      <th>sex</th>\n      <th>gender</th>\n      <th>homeworld</th>\n      <th>species</th>\n      <th>films</th>\n      <th>vehicles</th>\n      <th>starships</th>\n    </tr>\n  </thead>\n  <tbody>\n    <tr>\n      <th>18</th>\n      <td>Yoda</td>\n      <td>66.0</td>\n      <td>17.0</td>\n      <td>white</td>\n      <td>green</td>\n      <td>brown</td>\n      <td>896.0</td>\n      <td>male</td>\n      <td>masculine</td>\n      <td>NaN</td>\n      <td>Yoda's species</td>\n      <td>The Empire Strikes Back, Attack of the Clones,...</td>\n      <td>NaN</td>\n      <td>NaN</td>\n    </tr>\n    <tr>\n      <th>15</th>\n      <td>Jabba Desilijic Tiure</td>\n      <td>175.0</td>\n      <td>1358.0</td>\n      <td>NaN</td>\n      <td>green-tan, brown</td>\n      <td>orange</td>\n      <td>600.0</td>\n      <td>hermaphroditic</td>\n      <td>masculine</td>\n      <td>Nal Hutta</td>\n      <td>Hutt</td>\n      <td>The Phantom Menace, Return of the Jedi, A New ...</td>\n      <td>NaN</td>\n      <td>NaN</td>\n    </tr>\n    <tr>\n      <th>12</th>\n      <td>Chewbacca</td>\n      <td>228.0</td>\n      <td>112.0</td>\n      <td>brown</td>\n      <td>unknown</td>\n      <td>blue</td>\n      <td>200.0</td>\n      <td>male</td>\n      <td>masculine</td>\n      <td>Kashyyyk</td>\n      <td>Wookiee</td>\n      <td>The Empire Strikes Back, Revenge of the Sith, ...</td>\n      <td>AT-ST</td>\n      <td>Millennium Falcon, Imperial shuttle</td>\n    </tr>\n    <tr>\n      <th>1</th>\n      <td>C-3PO</td>\n      <td>167.0</td>\n      <td>75.0</td>\n      <td>NaN</td>\n      <td>gold</td>\n      <td>yellow</td>\n      <td>112.0</td>\n      <td>none</td>\n      <td>masculine</td>\n      <td>Tatooine</td>\n      <td>Droid</td>\n      <td>The Empire Strikes Back, Attack of the Clones,...</td>\n      <td>NaN</td>\n      <td>NaN</td>\n    </tr>\n    <tr>\n      <th>63</th>\n      <td>Dooku</td>\n      <td>193.0</td>\n      <td>80.0</td>\n      <td>white</td>\n      <td>fair</td>\n      <td>brown</td>\n      <td>102.0</td>\n      <td>male</td>\n      <td>masculine</td>\n      <td>Serenno</td>\n      <td>Human</td>\n      <td>Attack of the Clones, Revenge of the Sith</td>\n      <td>Flitknot speeder</td>\n      <td>NaN</td>\n    </tr>\n    <tr>\n      <th>...</th>\n      <td>...</td>\n      <td>...</td>\n      <td>...</td>\n      <td>...</td>\n      <td>...</td>\n      <td>...</td>\n      <td>...</td>\n      <td>...</td>\n      <td>...</td>\n      <td>...</td>\n      <td>...</td>\n      <td>...</td>\n      <td>...</td>\n      <td>...</td>\n    </tr>\n    <tr>\n      <th>81</th>\n      <td>Finn</td>\n      <td>NaN</td>\n      <td>NaN</td>\n      <td>black</td>\n      <td>dark</td>\n      <td>dark</td>\n      <td>NaN</td>\n      <td>male</td>\n      <td>masculine</td>\n      <td>NaN</td>\n      <td>Human</td>\n      <td>The Force Awakens</td>\n      <td>NaN</td>\n      <td>NaN</td>\n    </tr>\n    <tr>\n      <th>82</th>\n      <td>Rey</td>\n      <td>NaN</td>\n      <td>NaN</td>\n      <td>brown</td>\n      <td>light</td>\n      <td>hazel</td>\n      <td>NaN</td>\n      <td>female</td>\n      <td>feminine</td>\n      <td>NaN</td>\n      <td>Human</td>\n      <td>The Force Awakens</td>\n      <td>NaN</td>\n      <td>NaN</td>\n    </tr>\n    <tr>\n      <th>83</th>\n      <td>Poe Dameron</td>\n      <td>NaN</td>\n      <td>NaN</td>\n      <td>brown</td>\n      <td>light</td>\n      <td>brown</td>\n      <td>NaN</td>\n      <td>male</td>\n      <td>masculine</td>\n      <td>NaN</td>\n      <td>Human</td>\n      <td>The Force Awakens</td>\n      <td>NaN</td>\n      <td>T-70 X-wing fighter</td>\n    </tr>\n    <tr>\n      <th>84</th>\n      <td>BB8</td>\n      <td>NaN</td>\n      <td>NaN</td>\n      <td>none</td>\n      <td>none</td>\n      <td>black</td>\n      <td>NaN</td>\n      <td>none</td>\n      <td>masculine</td>\n      <td>NaN</td>\n      <td>Droid</td>\n      <td>The Force Awakens</td>\n      <td>NaN</td>\n      <td>NaN</td>\n    </tr>\n    <tr>\n      <th>85</th>\n      <td>Captain Phasma</td>\n      <td>NaN</td>\n      <td>NaN</td>\n      <td>unknown</td>\n      <td>unknown</td>\n      <td>unknown</td>\n      <td>NaN</td>\n      <td>NaN</td>\n      <td>NaN</td>\n      <td>NaN</td>\n      <td>NaN</td>\n      <td>The Force Awakens</td>\n      <td>NaN</td>\n      <td>NaN</td>\n    </tr>\n  </tbody>\n</table>\n<p>87 rows × 14 columns</p>\n</div>"
     },
     "execution_count": 20,
     "metadata": {},
     "output_type": "execute_result"
    }
   ],
   "source": [
    "data = data.sort_values(by='birth_year', ascending=False)\n",
    "data"
   ],
   "metadata": {
    "collapsed": false,
    "ExecuteTime": {
     "end_time": "2023-12-17T12:57:37.579232400Z",
     "start_time": "2023-12-17T12:57:37.517400600Z"
    }
   },
   "id": "7769b4b199baeabc"
  },
  {
   "cell_type": "markdown",
   "source": [
    "Мы отсортировали датасет по возрасту персонажей по убыванию. Далее мы удалим один из столбцов."
   ],
   "metadata": {
    "collapsed": false
   },
   "id": "4f3ada430d23ff58"
  },
  {
   "cell_type": "code",
   "execution_count": 21,
   "outputs": [
    {
     "data": {
      "text/plain": "                     name  height    mass hair_color        skin_color  \\\n18                   Yoda    66.0    17.0      white             green   \n15  Jabba Desilijic Tiure   175.0  1358.0        NaN  green-tan, brown   \n12              Chewbacca   228.0   112.0      brown           unknown   \n1                   C-3PO   167.0    75.0        NaN              gold   \n63                  Dooku   193.0    80.0      white              fair   \n..                    ...     ...     ...        ...               ...   \n81                   Finn     NaN     NaN      black              dark   \n82                    Rey     NaN     NaN      brown             light   \n83            Poe Dameron     NaN     NaN      brown             light   \n84                    BB8     NaN     NaN       none              none   \n85         Captain Phasma     NaN     NaN    unknown           unknown   \n\n   eye_color  birth_year             sex  homeworld         species  \\\n18     brown       896.0            male        NaN  Yoda's species   \n15    orange       600.0  hermaphroditic  Nal Hutta            Hutt   \n12      blue       200.0            male   Kashyyyk         Wookiee   \n1     yellow       112.0            none   Tatooine           Droid   \n63     brown       102.0            male    Serenno           Human   \n..       ...         ...             ...        ...             ...   \n81      dark         NaN            male        NaN           Human   \n82     hazel         NaN          female        NaN           Human   \n83     brown         NaN            male        NaN           Human   \n84     black         NaN            none        NaN           Droid   \n85   unknown         NaN             NaN        NaN             NaN   \n\n                                                films          vehicles  \\\n18  The Empire Strikes Back, Attack of the Clones,...               NaN   \n15  The Phantom Menace, Return of the Jedi, A New ...               NaN   \n12  The Empire Strikes Back, Revenge of the Sith, ...             AT-ST   \n1   The Empire Strikes Back, Attack of the Clones,...               NaN   \n63          Attack of the Clones, Revenge of the Sith  Flitknot speeder   \n..                                                ...               ...   \n81                                  The Force Awakens               NaN   \n82                                  The Force Awakens               NaN   \n83                                  The Force Awakens               NaN   \n84                                  The Force Awakens               NaN   \n85                                  The Force Awakens               NaN   \n\n                              starships  \n18                                  NaN  \n15                                  NaN  \n12  Millennium Falcon, Imperial shuttle  \n1                                   NaN  \n63                                  NaN  \n..                                  ...  \n81                                  NaN  \n82                                  NaN  \n83                  T-70 X-wing fighter  \n84                                  NaN  \n85                                  NaN  \n\n[87 rows x 13 columns]",
      "text/html": "<div>\n<style scoped>\n    .dataframe tbody tr th:only-of-type {\n        vertical-align: middle;\n    }\n\n    .dataframe tbody tr th {\n        vertical-align: top;\n    }\n\n    .dataframe thead th {\n        text-align: right;\n    }\n</style>\n<table border=\"1\" class=\"dataframe\">\n  <thead>\n    <tr style=\"text-align: right;\">\n      <th></th>\n      <th>name</th>\n      <th>height</th>\n      <th>mass</th>\n      <th>hair_color</th>\n      <th>skin_color</th>\n      <th>eye_color</th>\n      <th>birth_year</th>\n      <th>sex</th>\n      <th>homeworld</th>\n      <th>species</th>\n      <th>films</th>\n      <th>vehicles</th>\n      <th>starships</th>\n    </tr>\n  </thead>\n  <tbody>\n    <tr>\n      <th>18</th>\n      <td>Yoda</td>\n      <td>66.0</td>\n      <td>17.0</td>\n      <td>white</td>\n      <td>green</td>\n      <td>brown</td>\n      <td>896.0</td>\n      <td>male</td>\n      <td>NaN</td>\n      <td>Yoda's species</td>\n      <td>The Empire Strikes Back, Attack of the Clones,...</td>\n      <td>NaN</td>\n      <td>NaN</td>\n    </tr>\n    <tr>\n      <th>15</th>\n      <td>Jabba Desilijic Tiure</td>\n      <td>175.0</td>\n      <td>1358.0</td>\n      <td>NaN</td>\n      <td>green-tan, brown</td>\n      <td>orange</td>\n      <td>600.0</td>\n      <td>hermaphroditic</td>\n      <td>Nal Hutta</td>\n      <td>Hutt</td>\n      <td>The Phantom Menace, Return of the Jedi, A New ...</td>\n      <td>NaN</td>\n      <td>NaN</td>\n    </tr>\n    <tr>\n      <th>12</th>\n      <td>Chewbacca</td>\n      <td>228.0</td>\n      <td>112.0</td>\n      <td>brown</td>\n      <td>unknown</td>\n      <td>blue</td>\n      <td>200.0</td>\n      <td>male</td>\n      <td>Kashyyyk</td>\n      <td>Wookiee</td>\n      <td>The Empire Strikes Back, Revenge of the Sith, ...</td>\n      <td>AT-ST</td>\n      <td>Millennium Falcon, Imperial shuttle</td>\n    </tr>\n    <tr>\n      <th>1</th>\n      <td>C-3PO</td>\n      <td>167.0</td>\n      <td>75.0</td>\n      <td>NaN</td>\n      <td>gold</td>\n      <td>yellow</td>\n      <td>112.0</td>\n      <td>none</td>\n      <td>Tatooine</td>\n      <td>Droid</td>\n      <td>The Empire Strikes Back, Attack of the Clones,...</td>\n      <td>NaN</td>\n      <td>NaN</td>\n    </tr>\n    <tr>\n      <th>63</th>\n      <td>Dooku</td>\n      <td>193.0</td>\n      <td>80.0</td>\n      <td>white</td>\n      <td>fair</td>\n      <td>brown</td>\n      <td>102.0</td>\n      <td>male</td>\n      <td>Serenno</td>\n      <td>Human</td>\n      <td>Attack of the Clones, Revenge of the Sith</td>\n      <td>Flitknot speeder</td>\n      <td>NaN</td>\n    </tr>\n    <tr>\n      <th>...</th>\n      <td>...</td>\n      <td>...</td>\n      <td>...</td>\n      <td>...</td>\n      <td>...</td>\n      <td>...</td>\n      <td>...</td>\n      <td>...</td>\n      <td>...</td>\n      <td>...</td>\n      <td>...</td>\n      <td>...</td>\n      <td>...</td>\n    </tr>\n    <tr>\n      <th>81</th>\n      <td>Finn</td>\n      <td>NaN</td>\n      <td>NaN</td>\n      <td>black</td>\n      <td>dark</td>\n      <td>dark</td>\n      <td>NaN</td>\n      <td>male</td>\n      <td>NaN</td>\n      <td>Human</td>\n      <td>The Force Awakens</td>\n      <td>NaN</td>\n      <td>NaN</td>\n    </tr>\n    <tr>\n      <th>82</th>\n      <td>Rey</td>\n      <td>NaN</td>\n      <td>NaN</td>\n      <td>brown</td>\n      <td>light</td>\n      <td>hazel</td>\n      <td>NaN</td>\n      <td>female</td>\n      <td>NaN</td>\n      <td>Human</td>\n      <td>The Force Awakens</td>\n      <td>NaN</td>\n      <td>NaN</td>\n    </tr>\n    <tr>\n      <th>83</th>\n      <td>Poe Dameron</td>\n      <td>NaN</td>\n      <td>NaN</td>\n      <td>brown</td>\n      <td>light</td>\n      <td>brown</td>\n      <td>NaN</td>\n      <td>male</td>\n      <td>NaN</td>\n      <td>Human</td>\n      <td>The Force Awakens</td>\n      <td>NaN</td>\n      <td>T-70 X-wing fighter</td>\n    </tr>\n    <tr>\n      <th>84</th>\n      <td>BB8</td>\n      <td>NaN</td>\n      <td>NaN</td>\n      <td>none</td>\n      <td>none</td>\n      <td>black</td>\n      <td>NaN</td>\n      <td>none</td>\n      <td>NaN</td>\n      <td>Droid</td>\n      <td>The Force Awakens</td>\n      <td>NaN</td>\n      <td>NaN</td>\n    </tr>\n    <tr>\n      <th>85</th>\n      <td>Captain Phasma</td>\n      <td>NaN</td>\n      <td>NaN</td>\n      <td>unknown</td>\n      <td>unknown</td>\n      <td>unknown</td>\n      <td>NaN</td>\n      <td>NaN</td>\n      <td>NaN</td>\n      <td>NaN</td>\n      <td>The Force Awakens</td>\n      <td>NaN</td>\n      <td>NaN</td>\n    </tr>\n  </tbody>\n</table>\n<p>87 rows × 13 columns</p>\n</div>"
     },
     "execution_count": 21,
     "metadata": {},
     "output_type": "execute_result"
    }
   ],
   "source": [
    "data = data.drop(['gender'], axis=1)\n",
    "data"
   ],
   "metadata": {
    "collapsed": false,
    "ExecuteTime": {
     "end_time": "2023-12-17T12:59:17.100878Z",
     "start_time": "2023-12-17T12:59:17.067229300Z"
    }
   },
   "id": "c7b620f7b13f38c5"
  },
  {
   "cell_type": "markdown",
   "source": [
    "Как вы можете видеть, удаление прошло успешно. Теперь поменяем названия некоторых из колонок."
   ],
   "metadata": {
    "collapsed": false
   },
   "id": "ef83ce9bdbf96244"
  },
  {
   "cell_type": "code",
   "execution_count": 22,
   "outputs": [
    {
     "data": {
      "text/plain": "                     name  height  weight hair_color        skin_color  \\\n18                   Yoda    66.0    17.0      white             green   \n15  Jabba Desilijic Tiure   175.0  1358.0        NaN  green-tan, brown   \n12              Chewbacca   228.0   112.0      brown           unknown   \n1                   C-3PO   167.0    75.0        NaN              gold   \n63                  Dooku   193.0    80.0      white              fair   \n..                    ...     ...     ...        ...               ...   \n81                   Finn     NaN     NaN      black              dark   \n82                    Rey     NaN     NaN      brown             light   \n83            Poe Dameron     NaN     NaN      brown             light   \n84                    BB8     NaN     NaN       none              none   \n85         Captain Phasma     NaN     NaN    unknown           unknown   \n\n   eye_color    age             sex   homeland         species  \\\n18     brown  896.0            male        NaN  Yoda's species   \n15    orange  600.0  hermaphroditic  Nal Hutta            Hutt   \n12      blue  200.0            male   Kashyyyk         Wookiee   \n1     yellow  112.0            none   Tatooine           Droid   \n63     brown  102.0            male    Serenno           Human   \n..       ...    ...             ...        ...             ...   \n81      dark    NaN            male        NaN           Human   \n82     hazel    NaN          female        NaN           Human   \n83     brown    NaN            male        NaN           Human   \n84     black    NaN            none        NaN           Droid   \n85   unknown    NaN             NaN        NaN             NaN   \n\n                                                films          vehicles  \\\n18  The Empire Strikes Back, Attack of the Clones,...               NaN   \n15  The Phantom Menace, Return of the Jedi, A New ...               NaN   \n12  The Empire Strikes Back, Revenge of the Sith, ...             AT-ST   \n1   The Empire Strikes Back, Attack of the Clones,...               NaN   \n63          Attack of the Clones, Revenge of the Sith  Flitknot speeder   \n..                                                ...               ...   \n81                                  The Force Awakens               NaN   \n82                                  The Force Awakens               NaN   \n83                                  The Force Awakens               NaN   \n84                                  The Force Awakens               NaN   \n85                                  The Force Awakens               NaN   \n\n                              starships  \n18                                  NaN  \n15                                  NaN  \n12  Millennium Falcon, Imperial shuttle  \n1                                   NaN  \n63                                  NaN  \n..                                  ...  \n81                                  NaN  \n82                                  NaN  \n83                  T-70 X-wing fighter  \n84                                  NaN  \n85                                  NaN  \n\n[87 rows x 13 columns]",
      "text/html": "<div>\n<style scoped>\n    .dataframe tbody tr th:only-of-type {\n        vertical-align: middle;\n    }\n\n    .dataframe tbody tr th {\n        vertical-align: top;\n    }\n\n    .dataframe thead th {\n        text-align: right;\n    }\n</style>\n<table border=\"1\" class=\"dataframe\">\n  <thead>\n    <tr style=\"text-align: right;\">\n      <th></th>\n      <th>name</th>\n      <th>height</th>\n      <th>weight</th>\n      <th>hair_color</th>\n      <th>skin_color</th>\n      <th>eye_color</th>\n      <th>age</th>\n      <th>sex</th>\n      <th>homeland</th>\n      <th>species</th>\n      <th>films</th>\n      <th>vehicles</th>\n      <th>starships</th>\n    </tr>\n  </thead>\n  <tbody>\n    <tr>\n      <th>18</th>\n      <td>Yoda</td>\n      <td>66.0</td>\n      <td>17.0</td>\n      <td>white</td>\n      <td>green</td>\n      <td>brown</td>\n      <td>896.0</td>\n      <td>male</td>\n      <td>NaN</td>\n      <td>Yoda's species</td>\n      <td>The Empire Strikes Back, Attack of the Clones,...</td>\n      <td>NaN</td>\n      <td>NaN</td>\n    </tr>\n    <tr>\n      <th>15</th>\n      <td>Jabba Desilijic Tiure</td>\n      <td>175.0</td>\n      <td>1358.0</td>\n      <td>NaN</td>\n      <td>green-tan, brown</td>\n      <td>orange</td>\n      <td>600.0</td>\n      <td>hermaphroditic</td>\n      <td>Nal Hutta</td>\n      <td>Hutt</td>\n      <td>The Phantom Menace, Return of the Jedi, A New ...</td>\n      <td>NaN</td>\n      <td>NaN</td>\n    </tr>\n    <tr>\n      <th>12</th>\n      <td>Chewbacca</td>\n      <td>228.0</td>\n      <td>112.0</td>\n      <td>brown</td>\n      <td>unknown</td>\n      <td>blue</td>\n      <td>200.0</td>\n      <td>male</td>\n      <td>Kashyyyk</td>\n      <td>Wookiee</td>\n      <td>The Empire Strikes Back, Revenge of the Sith, ...</td>\n      <td>AT-ST</td>\n      <td>Millennium Falcon, Imperial shuttle</td>\n    </tr>\n    <tr>\n      <th>1</th>\n      <td>C-3PO</td>\n      <td>167.0</td>\n      <td>75.0</td>\n      <td>NaN</td>\n      <td>gold</td>\n      <td>yellow</td>\n      <td>112.0</td>\n      <td>none</td>\n      <td>Tatooine</td>\n      <td>Droid</td>\n      <td>The Empire Strikes Back, Attack of the Clones,...</td>\n      <td>NaN</td>\n      <td>NaN</td>\n    </tr>\n    <tr>\n      <th>63</th>\n      <td>Dooku</td>\n      <td>193.0</td>\n      <td>80.0</td>\n      <td>white</td>\n      <td>fair</td>\n      <td>brown</td>\n      <td>102.0</td>\n      <td>male</td>\n      <td>Serenno</td>\n      <td>Human</td>\n      <td>Attack of the Clones, Revenge of the Sith</td>\n      <td>Flitknot speeder</td>\n      <td>NaN</td>\n    </tr>\n    <tr>\n      <th>...</th>\n      <td>...</td>\n      <td>...</td>\n      <td>...</td>\n      <td>...</td>\n      <td>...</td>\n      <td>...</td>\n      <td>...</td>\n      <td>...</td>\n      <td>...</td>\n      <td>...</td>\n      <td>...</td>\n      <td>...</td>\n      <td>...</td>\n    </tr>\n    <tr>\n      <th>81</th>\n      <td>Finn</td>\n      <td>NaN</td>\n      <td>NaN</td>\n      <td>black</td>\n      <td>dark</td>\n      <td>dark</td>\n      <td>NaN</td>\n      <td>male</td>\n      <td>NaN</td>\n      <td>Human</td>\n      <td>The Force Awakens</td>\n      <td>NaN</td>\n      <td>NaN</td>\n    </tr>\n    <tr>\n      <th>82</th>\n      <td>Rey</td>\n      <td>NaN</td>\n      <td>NaN</td>\n      <td>brown</td>\n      <td>light</td>\n      <td>hazel</td>\n      <td>NaN</td>\n      <td>female</td>\n      <td>NaN</td>\n      <td>Human</td>\n      <td>The Force Awakens</td>\n      <td>NaN</td>\n      <td>NaN</td>\n    </tr>\n    <tr>\n      <th>83</th>\n      <td>Poe Dameron</td>\n      <td>NaN</td>\n      <td>NaN</td>\n      <td>brown</td>\n      <td>light</td>\n      <td>brown</td>\n      <td>NaN</td>\n      <td>male</td>\n      <td>NaN</td>\n      <td>Human</td>\n      <td>The Force Awakens</td>\n      <td>NaN</td>\n      <td>T-70 X-wing fighter</td>\n    </tr>\n    <tr>\n      <th>84</th>\n      <td>BB8</td>\n      <td>NaN</td>\n      <td>NaN</td>\n      <td>none</td>\n      <td>none</td>\n      <td>black</td>\n      <td>NaN</td>\n      <td>none</td>\n      <td>NaN</td>\n      <td>Droid</td>\n      <td>The Force Awakens</td>\n      <td>NaN</td>\n      <td>NaN</td>\n    </tr>\n    <tr>\n      <th>85</th>\n      <td>Captain Phasma</td>\n      <td>NaN</td>\n      <td>NaN</td>\n      <td>unknown</td>\n      <td>unknown</td>\n      <td>unknown</td>\n      <td>NaN</td>\n      <td>NaN</td>\n      <td>NaN</td>\n      <td>NaN</td>\n      <td>The Force Awakens</td>\n      <td>NaN</td>\n      <td>NaN</td>\n    </tr>\n  </tbody>\n</table>\n<p>87 rows × 13 columns</p>\n</div>"
     },
     "execution_count": 22,
     "metadata": {},
     "output_type": "execute_result"
    }
   ],
   "source": [
    "new = {'mass': 'weight', 'birth_year': 'age', 'homeworld': 'homeland'}\n",
    "data.rename(columns=new, inplace=True)\n",
    "data"
   ],
   "metadata": {
    "collapsed": false,
    "ExecuteTime": {
     "end_time": "2023-12-17T13:00:08.001655500Z",
     "start_time": "2023-12-17T13:00:07.974761900Z"
    }
   },
   "id": "fe5bb39524f4ef8a"
  },
  {
   "cell_type": "markdown",
   "source": [
    "В этом случае мы также спокойно удалили ненужный столбец таблицы. Теперь попробуем удалить строки с пустыми значениями."
   ],
   "metadata": {
    "collapsed": false
   },
   "id": "f8a1d0d230e5569c"
  },
  {
   "cell_type": "code",
   "execution_count": 23,
   "outputs": [
    {
     "data": {
      "text/plain": "                name  height  weight     hair_color skin_color  eye_color  \\\n12         Chewbacca   228.0   112.0          brown    unknown       blue   \n9     Obi-Wan Kenobi   182.0    77.0  auburn, white       fair  blue-gray   \n41        Darth Maul   175.0    80.0           none        red     yellow   \n10  Anakin Skywalker   188.0    84.0          blond       fair       blue   \n16    Wedge Antilles   170.0    77.0          brown       fair      hazel   \n0     Luke Skywalker   172.0    77.0          blond       fair       blue   \n\n      age   sex  homeland  species  \\\n12  200.0  male  Kashyyyk  Wookiee   \n9    57.0  male   Stewjon    Human   \n41   54.0  male  Dathomir   Zabrak   \n10   41.9  male  Tatooine    Human   \n16   21.0  male  Corellia    Human   \n0    19.0  male  Tatooine    Human   \n\n                                                films  \\\n12  The Empire Strikes Back, Revenge of the Sith, ...   \n9   The Empire Strikes Back, Attack of the Clones,...   \n41                                 The Phantom Menace   \n10  Attack of the Clones, The Phantom Menace, Reve...   \n16  The Empire Strikes Back, Return of the Jedi, A...   \n0   The Empire Strikes Back, Revenge of the Sith, ...   \n\n                                vehicles  \\\n12                                 AT-ST   \n9                        Tribubble bongo   \n41                          Sith speeder   \n10  Zephyr-G swoop bike, XJ-6 airspeeder   \n16                           Snowspeeder   \n0     Snowspeeder, Imperial Speeder Bike   \n\n                                            starships  \n12                Millennium Falcon, Imperial shuttle  \n9   Jedi starfighter, Trade Federation cruiser, Na...  \n41                                           Scimitar  \n10  Trade Federation cruiser, Jedi Interceptor, Na...  \n16                                             X-wing  \n0                            X-wing, Imperial shuttle  ",
      "text/html": "<div>\n<style scoped>\n    .dataframe tbody tr th:only-of-type {\n        vertical-align: middle;\n    }\n\n    .dataframe tbody tr th {\n        vertical-align: top;\n    }\n\n    .dataframe thead th {\n        text-align: right;\n    }\n</style>\n<table border=\"1\" class=\"dataframe\">\n  <thead>\n    <tr style=\"text-align: right;\">\n      <th></th>\n      <th>name</th>\n      <th>height</th>\n      <th>weight</th>\n      <th>hair_color</th>\n      <th>skin_color</th>\n      <th>eye_color</th>\n      <th>age</th>\n      <th>sex</th>\n      <th>homeland</th>\n      <th>species</th>\n      <th>films</th>\n      <th>vehicles</th>\n      <th>starships</th>\n    </tr>\n  </thead>\n  <tbody>\n    <tr>\n      <th>12</th>\n      <td>Chewbacca</td>\n      <td>228.0</td>\n      <td>112.0</td>\n      <td>brown</td>\n      <td>unknown</td>\n      <td>blue</td>\n      <td>200.0</td>\n      <td>male</td>\n      <td>Kashyyyk</td>\n      <td>Wookiee</td>\n      <td>The Empire Strikes Back, Revenge of the Sith, ...</td>\n      <td>AT-ST</td>\n      <td>Millennium Falcon, Imperial shuttle</td>\n    </tr>\n    <tr>\n      <th>9</th>\n      <td>Obi-Wan Kenobi</td>\n      <td>182.0</td>\n      <td>77.0</td>\n      <td>auburn, white</td>\n      <td>fair</td>\n      <td>blue-gray</td>\n      <td>57.0</td>\n      <td>male</td>\n      <td>Stewjon</td>\n      <td>Human</td>\n      <td>The Empire Strikes Back, Attack of the Clones,...</td>\n      <td>Tribubble bongo</td>\n      <td>Jedi starfighter, Trade Federation cruiser, Na...</td>\n    </tr>\n    <tr>\n      <th>41</th>\n      <td>Darth Maul</td>\n      <td>175.0</td>\n      <td>80.0</td>\n      <td>none</td>\n      <td>red</td>\n      <td>yellow</td>\n      <td>54.0</td>\n      <td>male</td>\n      <td>Dathomir</td>\n      <td>Zabrak</td>\n      <td>The Phantom Menace</td>\n      <td>Sith speeder</td>\n      <td>Scimitar</td>\n    </tr>\n    <tr>\n      <th>10</th>\n      <td>Anakin Skywalker</td>\n      <td>188.0</td>\n      <td>84.0</td>\n      <td>blond</td>\n      <td>fair</td>\n      <td>blue</td>\n      <td>41.9</td>\n      <td>male</td>\n      <td>Tatooine</td>\n      <td>Human</td>\n      <td>Attack of the Clones, The Phantom Menace, Reve...</td>\n      <td>Zephyr-G swoop bike, XJ-6 airspeeder</td>\n      <td>Trade Federation cruiser, Jedi Interceptor, Na...</td>\n    </tr>\n    <tr>\n      <th>16</th>\n      <td>Wedge Antilles</td>\n      <td>170.0</td>\n      <td>77.0</td>\n      <td>brown</td>\n      <td>fair</td>\n      <td>hazel</td>\n      <td>21.0</td>\n      <td>male</td>\n      <td>Corellia</td>\n      <td>Human</td>\n      <td>The Empire Strikes Back, Return of the Jedi, A...</td>\n      <td>Snowspeeder</td>\n      <td>X-wing</td>\n    </tr>\n    <tr>\n      <th>0</th>\n      <td>Luke Skywalker</td>\n      <td>172.0</td>\n      <td>77.0</td>\n      <td>blond</td>\n      <td>fair</td>\n      <td>blue</td>\n      <td>19.0</td>\n      <td>male</td>\n      <td>Tatooine</td>\n      <td>Human</td>\n      <td>The Empire Strikes Back, Revenge of the Sith, ...</td>\n      <td>Snowspeeder, Imperial Speeder Bike</td>\n      <td>X-wing, Imperial shuttle</td>\n    </tr>\n  </tbody>\n</table>\n</div>"
     },
     "execution_count": 23,
     "metadata": {},
     "output_type": "execute_result"
    }
   ],
   "source": [
    "drop_data = data.dropna()\n",
    "drop_data"
   ],
   "metadata": {
    "collapsed": false,
    "ExecuteTime": {
     "end_time": "2023-12-17T13:03:38.825603700Z",
     "start_time": "2023-12-17T13:03:38.797093Z"
    }
   },
   "id": "20b258a869e31057"
  },
  {
   "cell_type": "markdown",
   "source": [
    "Удалось успешно выполнить удаление, теперь попробуем удалить дубликаты, если таковые имеются."
   ],
   "metadata": {
    "collapsed": false
   },
   "id": "44f36097076fbd40"
  },
  {
   "cell_type": "code",
   "execution_count": 24,
   "outputs": [
    {
     "data": {
      "text/plain": "                     name  height  weight hair_color        skin_color  \\\n18                   Yoda    66.0    17.0      white             green   \n15  Jabba Desilijic Tiure   175.0  1358.0        NaN  green-tan, brown   \n12              Chewbacca   228.0   112.0      brown           unknown   \n1                   C-3PO   167.0    75.0        NaN              gold   \n63                  Dooku   193.0    80.0      white              fair   \n..                    ...     ...     ...        ...               ...   \n81                   Finn     NaN     NaN      black              dark   \n82                    Rey     NaN     NaN      brown             light   \n83            Poe Dameron     NaN     NaN      brown             light   \n84                    BB8     NaN     NaN       none              none   \n85         Captain Phasma     NaN     NaN    unknown           unknown   \n\n   eye_color    age             sex   homeland         species  \\\n18     brown  896.0            male        NaN  Yoda's species   \n15    orange  600.0  hermaphroditic  Nal Hutta            Hutt   \n12      blue  200.0            male   Kashyyyk         Wookiee   \n1     yellow  112.0            none   Tatooine           Droid   \n63     brown  102.0            male    Serenno           Human   \n..       ...    ...             ...        ...             ...   \n81      dark    NaN            male        NaN           Human   \n82     hazel    NaN          female        NaN           Human   \n83     brown    NaN            male        NaN           Human   \n84     black    NaN            none        NaN           Droid   \n85   unknown    NaN             NaN        NaN             NaN   \n\n                                                films          vehicles  \\\n18  The Empire Strikes Back, Attack of the Clones,...               NaN   \n15  The Phantom Menace, Return of the Jedi, A New ...               NaN   \n12  The Empire Strikes Back, Revenge of the Sith, ...             AT-ST   \n1   The Empire Strikes Back, Attack of the Clones,...               NaN   \n63          Attack of the Clones, Revenge of the Sith  Flitknot speeder   \n..                                                ...               ...   \n81                                  The Force Awakens               NaN   \n82                                  The Force Awakens               NaN   \n83                                  The Force Awakens               NaN   \n84                                  The Force Awakens               NaN   \n85                                  The Force Awakens               NaN   \n\n                              starships  \n18                                  NaN  \n15                                  NaN  \n12  Millennium Falcon, Imperial shuttle  \n1                                   NaN  \n63                                  NaN  \n..                                  ...  \n81                                  NaN  \n82                                  NaN  \n83                  T-70 X-wing fighter  \n84                                  NaN  \n85                                  NaN  \n\n[87 rows x 13 columns]",
      "text/html": "<div>\n<style scoped>\n    .dataframe tbody tr th:only-of-type {\n        vertical-align: middle;\n    }\n\n    .dataframe tbody tr th {\n        vertical-align: top;\n    }\n\n    .dataframe thead th {\n        text-align: right;\n    }\n</style>\n<table border=\"1\" class=\"dataframe\">\n  <thead>\n    <tr style=\"text-align: right;\">\n      <th></th>\n      <th>name</th>\n      <th>height</th>\n      <th>weight</th>\n      <th>hair_color</th>\n      <th>skin_color</th>\n      <th>eye_color</th>\n      <th>age</th>\n      <th>sex</th>\n      <th>homeland</th>\n      <th>species</th>\n      <th>films</th>\n      <th>vehicles</th>\n      <th>starships</th>\n    </tr>\n  </thead>\n  <tbody>\n    <tr>\n      <th>18</th>\n      <td>Yoda</td>\n      <td>66.0</td>\n      <td>17.0</td>\n      <td>white</td>\n      <td>green</td>\n      <td>brown</td>\n      <td>896.0</td>\n      <td>male</td>\n      <td>NaN</td>\n      <td>Yoda's species</td>\n      <td>The Empire Strikes Back, Attack of the Clones,...</td>\n      <td>NaN</td>\n      <td>NaN</td>\n    </tr>\n    <tr>\n      <th>15</th>\n      <td>Jabba Desilijic Tiure</td>\n      <td>175.0</td>\n      <td>1358.0</td>\n      <td>NaN</td>\n      <td>green-tan, brown</td>\n      <td>orange</td>\n      <td>600.0</td>\n      <td>hermaphroditic</td>\n      <td>Nal Hutta</td>\n      <td>Hutt</td>\n      <td>The Phantom Menace, Return of the Jedi, A New ...</td>\n      <td>NaN</td>\n      <td>NaN</td>\n    </tr>\n    <tr>\n      <th>12</th>\n      <td>Chewbacca</td>\n      <td>228.0</td>\n      <td>112.0</td>\n      <td>brown</td>\n      <td>unknown</td>\n      <td>blue</td>\n      <td>200.0</td>\n      <td>male</td>\n      <td>Kashyyyk</td>\n      <td>Wookiee</td>\n      <td>The Empire Strikes Back, Revenge of the Sith, ...</td>\n      <td>AT-ST</td>\n      <td>Millennium Falcon, Imperial shuttle</td>\n    </tr>\n    <tr>\n      <th>1</th>\n      <td>C-3PO</td>\n      <td>167.0</td>\n      <td>75.0</td>\n      <td>NaN</td>\n      <td>gold</td>\n      <td>yellow</td>\n      <td>112.0</td>\n      <td>none</td>\n      <td>Tatooine</td>\n      <td>Droid</td>\n      <td>The Empire Strikes Back, Attack of the Clones,...</td>\n      <td>NaN</td>\n      <td>NaN</td>\n    </tr>\n    <tr>\n      <th>63</th>\n      <td>Dooku</td>\n      <td>193.0</td>\n      <td>80.0</td>\n      <td>white</td>\n      <td>fair</td>\n      <td>brown</td>\n      <td>102.0</td>\n      <td>male</td>\n      <td>Serenno</td>\n      <td>Human</td>\n      <td>Attack of the Clones, Revenge of the Sith</td>\n      <td>Flitknot speeder</td>\n      <td>NaN</td>\n    </tr>\n    <tr>\n      <th>...</th>\n      <td>...</td>\n      <td>...</td>\n      <td>...</td>\n      <td>...</td>\n      <td>...</td>\n      <td>...</td>\n      <td>...</td>\n      <td>...</td>\n      <td>...</td>\n      <td>...</td>\n      <td>...</td>\n      <td>...</td>\n      <td>...</td>\n    </tr>\n    <tr>\n      <th>81</th>\n      <td>Finn</td>\n      <td>NaN</td>\n      <td>NaN</td>\n      <td>black</td>\n      <td>dark</td>\n      <td>dark</td>\n      <td>NaN</td>\n      <td>male</td>\n      <td>NaN</td>\n      <td>Human</td>\n      <td>The Force Awakens</td>\n      <td>NaN</td>\n      <td>NaN</td>\n    </tr>\n    <tr>\n      <th>82</th>\n      <td>Rey</td>\n      <td>NaN</td>\n      <td>NaN</td>\n      <td>brown</td>\n      <td>light</td>\n      <td>hazel</td>\n      <td>NaN</td>\n      <td>female</td>\n      <td>NaN</td>\n      <td>Human</td>\n      <td>The Force Awakens</td>\n      <td>NaN</td>\n      <td>NaN</td>\n    </tr>\n    <tr>\n      <th>83</th>\n      <td>Poe Dameron</td>\n      <td>NaN</td>\n      <td>NaN</td>\n      <td>brown</td>\n      <td>light</td>\n      <td>brown</td>\n      <td>NaN</td>\n      <td>male</td>\n      <td>NaN</td>\n      <td>Human</td>\n      <td>The Force Awakens</td>\n      <td>NaN</td>\n      <td>T-70 X-wing fighter</td>\n    </tr>\n    <tr>\n      <th>84</th>\n      <td>BB8</td>\n      <td>NaN</td>\n      <td>NaN</td>\n      <td>none</td>\n      <td>none</td>\n      <td>black</td>\n      <td>NaN</td>\n      <td>none</td>\n      <td>NaN</td>\n      <td>Droid</td>\n      <td>The Force Awakens</td>\n      <td>NaN</td>\n      <td>NaN</td>\n    </tr>\n    <tr>\n      <th>85</th>\n      <td>Captain Phasma</td>\n      <td>NaN</td>\n      <td>NaN</td>\n      <td>unknown</td>\n      <td>unknown</td>\n      <td>unknown</td>\n      <td>NaN</td>\n      <td>NaN</td>\n      <td>NaN</td>\n      <td>NaN</td>\n      <td>The Force Awakens</td>\n      <td>NaN</td>\n      <td>NaN</td>\n    </tr>\n  </tbody>\n</table>\n<p>87 rows × 13 columns</p>\n</div>"
     },
     "execution_count": 24,
     "metadata": {},
     "output_type": "execute_result"
    }
   ],
   "source": [
    "data.drop_duplicates(inplace=True)\n",
    "data"
   ],
   "metadata": {
    "collapsed": false,
    "ExecuteTime": {
     "end_time": "2023-12-17T13:05:42.796620Z",
     "start_time": "2023-12-17T13:05:42.774028Z"
    }
   },
   "id": "a9684f7d88c20d6f"
  },
  {
   "cell_type": "markdown",
   "source": [
    "Дубликатов в нашем массиве не оказалось, следовательно можно идти далее. Следующий шаг - удалить дубликаты по нескольким столбцам."
   ],
   "metadata": {
    "collapsed": false
   },
   "id": "40c6294c870e1a02"
  },
  {
   "cell_type": "code",
   "execution_count": 25,
   "outputs": [
    {
     "data": {
      "text/plain": "                 name  height  weight     hair_color           skin_color  \\\n18               Yoda    66.0    17.0          white                green   \n12          Chewbacca   228.0   112.0          brown              unknown   \n63              Dooku   193.0    80.0          white                 fair   \n30       Qui-Gon Jinn   193.0    89.0          brown                 fair   \n9      Obi-Wan Kenobi   182.0    77.0  auburn, white                 fair   \n41         Darth Maul   175.0    80.0           none                  red   \n86      Padmé Amidala   165.0    45.0          brown                light   \n3         Darth Vader   202.0   136.0           none                white   \n10   Anakin Skywalker   188.0    84.0          blond                 fair   \n20          Boba Fett   183.0    78.2          black                 fair   \n23   Lando Calrissian   177.0    79.0          black                 dark   \n13           Han Solo   180.0    80.0          brown                 fair   \n8   Biggs Darklighter   183.0    84.0          black                light   \n54           Plo Koon   188.0    80.0           none               orange   \n16     Wedge Antilles   170.0    77.0          brown                 fair   \n4         Leia Organa   150.0    49.0          brown                light   \n0      Luke Skywalker   172.0    77.0          blond                 fair   \n27       Arvel Crynyd     NaN     NaN          brown                 fair   \n36           Ric Olié   183.0     NaN          brown                 fair   \n56       Gregar Typho   185.0    85.0          black                 dark   \n66         Zam Wesell   168.0    55.0         blonde  fair, green, yellow   \n76           Grievous   216.0   159.0           none         brown, white   \n83        Poe Dameron     NaN     NaN          brown                light   \n\n        eye_color    age     sex  homeland         species  \\\n18          brown  896.0    male       NaN  Yoda's species   \n12           blue  200.0    male  Kashyyyk         Wookiee   \n63          brown  102.0    male   Serenno           Human   \n30           blue   92.0    male       NaN           Human   \n9       blue-gray   57.0    male   Stewjon           Human   \n41         yellow   54.0    male  Dathomir          Zabrak   \n86          brown   46.0  female     Naboo           Human   \n3          yellow   41.9    male  Tatooine           Human   \n10           blue   41.9    male  Tatooine           Human   \n20          brown   31.5    male    Kamino           Human   \n23          brown   31.0    male   Socorro           Human   \n13          brown   29.0    male  Corellia           Human   \n8           brown   24.0    male  Tatooine           Human   \n54          black   22.0    male     Dorin         Kel Dor   \n16          hazel   21.0    male  Corellia           Human   \n4           brown   19.0  female  Alderaan           Human   \n0            blue   19.0    male  Tatooine           Human   \n27          brown    NaN    male       NaN           Human   \n36           blue    NaN     NaN     Naboo             NaN   \n56          brown    NaN    male     Naboo           Human   \n66         yellow    NaN  female     Zolan        Clawdite   \n76  green, yellow    NaN    male     Kalee         Kaleesh   \n83          brown    NaN    male       NaN           Human   \n\n                                                films  \\\n18  The Empire Strikes Back, Attack of the Clones,...   \n12  The Empire Strikes Back, Revenge of the Sith, ...   \n63          Attack of the Clones, Revenge of the Sith   \n30                                 The Phantom Menace   \n9   The Empire Strikes Back, Attack of the Clones,...   \n41                                 The Phantom Menace   \n86  Attack of the Clones, The Phantom Menace, Reve...   \n3   The Empire Strikes Back, Revenge of the Sith, ...   \n10  Attack of the Clones, The Phantom Menace, Reve...   \n20  The Empire Strikes Back, Attack of the Clones,...   \n23        The Empire Strikes Back, Return of the Jedi   \n13  The Empire Strikes Back, Return of the Jedi, A...   \n8                                          A New Hope   \n54  Attack of the Clones, The Phantom Menace, Reve...   \n16  The Empire Strikes Back, Return of the Jedi, A...   \n4   The Empire Strikes Back, Revenge of the Sith, ...   \n0   The Empire Strikes Back, Revenge of the Sith, ...   \n27                                 Return of the Jedi   \n36                                 The Phantom Menace   \n56                               Attack of the Clones   \n66                               Attack of the Clones   \n76                                Revenge of the Sith   \n83                                  The Force Awakens   \n\n                                vehicles  \\\n18                                   NaN   \n12                                 AT-ST   \n63                      Flitknot speeder   \n30                       Tribubble bongo   \n9                        Tribubble bongo   \n41                          Sith speeder   \n86                                   NaN   \n3                                    NaN   \n10  Zephyr-G swoop bike, XJ-6 airspeeder   \n20                                   NaN   \n23                                   NaN   \n13                                   NaN   \n8                                    NaN   \n54                                   NaN   \n16                           Snowspeeder   \n4                  Imperial Speeder Bike   \n0     Snowspeeder, Imperial Speeder Bike   \n27                                   NaN   \n36                                   NaN   \n56                                   NaN   \n66            Koro-2 Exodrive airspeeder   \n76           Tsmeu-6 personal wheel bike   \n83                                   NaN   \n\n                                            starships  \n18                                                NaN  \n12                Millennium Falcon, Imperial shuttle  \n63                                                NaN  \n30                                                NaN  \n9   Jedi starfighter, Trade Federation cruiser, Na...  \n41                                           Scimitar  \n86  H-type Nubian yacht, Naboo star skiff, Naboo f...  \n3                                     TIE Advanced x1  \n10  Trade Federation cruiser, Jedi Interceptor, Na...  \n20                                            Slave 1  \n23                                  Millennium Falcon  \n13                Millennium Falcon, Imperial shuttle  \n8                                              X-wing  \n54                                   Jedi starfighter  \n16                                             X-wing  \n4                                                 NaN  \n0                            X-wing, Imperial shuttle  \n27                                             A-wing  \n36                               Naboo Royal Starship  \n56                                      Naboo fighter  \n66                                                NaN  \n76                           Belbullab-22 starfighter  \n83                                T-70 X-wing fighter  ",
      "text/html": "<div>\n<style scoped>\n    .dataframe tbody tr th:only-of-type {\n        vertical-align: middle;\n    }\n\n    .dataframe tbody tr th {\n        vertical-align: top;\n    }\n\n    .dataframe thead th {\n        text-align: right;\n    }\n</style>\n<table border=\"1\" class=\"dataframe\">\n  <thead>\n    <tr style=\"text-align: right;\">\n      <th></th>\n      <th>name</th>\n      <th>height</th>\n      <th>weight</th>\n      <th>hair_color</th>\n      <th>skin_color</th>\n      <th>eye_color</th>\n      <th>age</th>\n      <th>sex</th>\n      <th>homeland</th>\n      <th>species</th>\n      <th>films</th>\n      <th>vehicles</th>\n      <th>starships</th>\n    </tr>\n  </thead>\n  <tbody>\n    <tr>\n      <th>18</th>\n      <td>Yoda</td>\n      <td>66.0</td>\n      <td>17.0</td>\n      <td>white</td>\n      <td>green</td>\n      <td>brown</td>\n      <td>896.0</td>\n      <td>male</td>\n      <td>NaN</td>\n      <td>Yoda's species</td>\n      <td>The Empire Strikes Back, Attack of the Clones,...</td>\n      <td>NaN</td>\n      <td>NaN</td>\n    </tr>\n    <tr>\n      <th>12</th>\n      <td>Chewbacca</td>\n      <td>228.0</td>\n      <td>112.0</td>\n      <td>brown</td>\n      <td>unknown</td>\n      <td>blue</td>\n      <td>200.0</td>\n      <td>male</td>\n      <td>Kashyyyk</td>\n      <td>Wookiee</td>\n      <td>The Empire Strikes Back, Revenge of the Sith, ...</td>\n      <td>AT-ST</td>\n      <td>Millennium Falcon, Imperial shuttle</td>\n    </tr>\n    <tr>\n      <th>63</th>\n      <td>Dooku</td>\n      <td>193.0</td>\n      <td>80.0</td>\n      <td>white</td>\n      <td>fair</td>\n      <td>brown</td>\n      <td>102.0</td>\n      <td>male</td>\n      <td>Serenno</td>\n      <td>Human</td>\n      <td>Attack of the Clones, Revenge of the Sith</td>\n      <td>Flitknot speeder</td>\n      <td>NaN</td>\n    </tr>\n    <tr>\n      <th>30</th>\n      <td>Qui-Gon Jinn</td>\n      <td>193.0</td>\n      <td>89.0</td>\n      <td>brown</td>\n      <td>fair</td>\n      <td>blue</td>\n      <td>92.0</td>\n      <td>male</td>\n      <td>NaN</td>\n      <td>Human</td>\n      <td>The Phantom Menace</td>\n      <td>Tribubble bongo</td>\n      <td>NaN</td>\n    </tr>\n    <tr>\n      <th>9</th>\n      <td>Obi-Wan Kenobi</td>\n      <td>182.0</td>\n      <td>77.0</td>\n      <td>auburn, white</td>\n      <td>fair</td>\n      <td>blue-gray</td>\n      <td>57.0</td>\n      <td>male</td>\n      <td>Stewjon</td>\n      <td>Human</td>\n      <td>The Empire Strikes Back, Attack of the Clones,...</td>\n      <td>Tribubble bongo</td>\n      <td>Jedi starfighter, Trade Federation cruiser, Na...</td>\n    </tr>\n    <tr>\n      <th>41</th>\n      <td>Darth Maul</td>\n      <td>175.0</td>\n      <td>80.0</td>\n      <td>none</td>\n      <td>red</td>\n      <td>yellow</td>\n      <td>54.0</td>\n      <td>male</td>\n      <td>Dathomir</td>\n      <td>Zabrak</td>\n      <td>The Phantom Menace</td>\n      <td>Sith speeder</td>\n      <td>Scimitar</td>\n    </tr>\n    <tr>\n      <th>86</th>\n      <td>Padmé Amidala</td>\n      <td>165.0</td>\n      <td>45.0</td>\n      <td>brown</td>\n      <td>light</td>\n      <td>brown</td>\n      <td>46.0</td>\n      <td>female</td>\n      <td>Naboo</td>\n      <td>Human</td>\n      <td>Attack of the Clones, The Phantom Menace, Reve...</td>\n      <td>NaN</td>\n      <td>H-type Nubian yacht, Naboo star skiff, Naboo f...</td>\n    </tr>\n    <tr>\n      <th>3</th>\n      <td>Darth Vader</td>\n      <td>202.0</td>\n      <td>136.0</td>\n      <td>none</td>\n      <td>white</td>\n      <td>yellow</td>\n      <td>41.9</td>\n      <td>male</td>\n      <td>Tatooine</td>\n      <td>Human</td>\n      <td>The Empire Strikes Back, Revenge of the Sith, ...</td>\n      <td>NaN</td>\n      <td>TIE Advanced x1</td>\n    </tr>\n    <tr>\n      <th>10</th>\n      <td>Anakin Skywalker</td>\n      <td>188.0</td>\n      <td>84.0</td>\n      <td>blond</td>\n      <td>fair</td>\n      <td>blue</td>\n      <td>41.9</td>\n      <td>male</td>\n      <td>Tatooine</td>\n      <td>Human</td>\n      <td>Attack of the Clones, The Phantom Menace, Reve...</td>\n      <td>Zephyr-G swoop bike, XJ-6 airspeeder</td>\n      <td>Trade Federation cruiser, Jedi Interceptor, Na...</td>\n    </tr>\n    <tr>\n      <th>20</th>\n      <td>Boba Fett</td>\n      <td>183.0</td>\n      <td>78.2</td>\n      <td>black</td>\n      <td>fair</td>\n      <td>brown</td>\n      <td>31.5</td>\n      <td>male</td>\n      <td>Kamino</td>\n      <td>Human</td>\n      <td>The Empire Strikes Back, Attack of the Clones,...</td>\n      <td>NaN</td>\n      <td>Slave 1</td>\n    </tr>\n    <tr>\n      <th>23</th>\n      <td>Lando Calrissian</td>\n      <td>177.0</td>\n      <td>79.0</td>\n      <td>black</td>\n      <td>dark</td>\n      <td>brown</td>\n      <td>31.0</td>\n      <td>male</td>\n      <td>Socorro</td>\n      <td>Human</td>\n      <td>The Empire Strikes Back, Return of the Jedi</td>\n      <td>NaN</td>\n      <td>Millennium Falcon</td>\n    </tr>\n    <tr>\n      <th>13</th>\n      <td>Han Solo</td>\n      <td>180.0</td>\n      <td>80.0</td>\n      <td>brown</td>\n      <td>fair</td>\n      <td>brown</td>\n      <td>29.0</td>\n      <td>male</td>\n      <td>Corellia</td>\n      <td>Human</td>\n      <td>The Empire Strikes Back, Return of the Jedi, A...</td>\n      <td>NaN</td>\n      <td>Millennium Falcon, Imperial shuttle</td>\n    </tr>\n    <tr>\n      <th>8</th>\n      <td>Biggs Darklighter</td>\n      <td>183.0</td>\n      <td>84.0</td>\n      <td>black</td>\n      <td>light</td>\n      <td>brown</td>\n      <td>24.0</td>\n      <td>male</td>\n      <td>Tatooine</td>\n      <td>Human</td>\n      <td>A New Hope</td>\n      <td>NaN</td>\n      <td>X-wing</td>\n    </tr>\n    <tr>\n      <th>54</th>\n      <td>Plo Koon</td>\n      <td>188.0</td>\n      <td>80.0</td>\n      <td>none</td>\n      <td>orange</td>\n      <td>black</td>\n      <td>22.0</td>\n      <td>male</td>\n      <td>Dorin</td>\n      <td>Kel Dor</td>\n      <td>Attack of the Clones, The Phantom Menace, Reve...</td>\n      <td>NaN</td>\n      <td>Jedi starfighter</td>\n    </tr>\n    <tr>\n      <th>16</th>\n      <td>Wedge Antilles</td>\n      <td>170.0</td>\n      <td>77.0</td>\n      <td>brown</td>\n      <td>fair</td>\n      <td>hazel</td>\n      <td>21.0</td>\n      <td>male</td>\n      <td>Corellia</td>\n      <td>Human</td>\n      <td>The Empire Strikes Back, Return of the Jedi, A...</td>\n      <td>Snowspeeder</td>\n      <td>X-wing</td>\n    </tr>\n    <tr>\n      <th>4</th>\n      <td>Leia Organa</td>\n      <td>150.0</td>\n      <td>49.0</td>\n      <td>brown</td>\n      <td>light</td>\n      <td>brown</td>\n      <td>19.0</td>\n      <td>female</td>\n      <td>Alderaan</td>\n      <td>Human</td>\n      <td>The Empire Strikes Back, Revenge of the Sith, ...</td>\n      <td>Imperial Speeder Bike</td>\n      <td>NaN</td>\n    </tr>\n    <tr>\n      <th>0</th>\n      <td>Luke Skywalker</td>\n      <td>172.0</td>\n      <td>77.0</td>\n      <td>blond</td>\n      <td>fair</td>\n      <td>blue</td>\n      <td>19.0</td>\n      <td>male</td>\n      <td>Tatooine</td>\n      <td>Human</td>\n      <td>The Empire Strikes Back, Revenge of the Sith, ...</td>\n      <td>Snowspeeder, Imperial Speeder Bike</td>\n      <td>X-wing, Imperial shuttle</td>\n    </tr>\n    <tr>\n      <th>27</th>\n      <td>Arvel Crynyd</td>\n      <td>NaN</td>\n      <td>NaN</td>\n      <td>brown</td>\n      <td>fair</td>\n      <td>brown</td>\n      <td>NaN</td>\n      <td>male</td>\n      <td>NaN</td>\n      <td>Human</td>\n      <td>Return of the Jedi</td>\n      <td>NaN</td>\n      <td>A-wing</td>\n    </tr>\n    <tr>\n      <th>36</th>\n      <td>Ric Olié</td>\n      <td>183.0</td>\n      <td>NaN</td>\n      <td>brown</td>\n      <td>fair</td>\n      <td>blue</td>\n      <td>NaN</td>\n      <td>NaN</td>\n      <td>Naboo</td>\n      <td>NaN</td>\n      <td>The Phantom Menace</td>\n      <td>NaN</td>\n      <td>Naboo Royal Starship</td>\n    </tr>\n    <tr>\n      <th>56</th>\n      <td>Gregar Typho</td>\n      <td>185.0</td>\n      <td>85.0</td>\n      <td>black</td>\n      <td>dark</td>\n      <td>brown</td>\n      <td>NaN</td>\n      <td>male</td>\n      <td>Naboo</td>\n      <td>Human</td>\n      <td>Attack of the Clones</td>\n      <td>NaN</td>\n      <td>Naboo fighter</td>\n    </tr>\n    <tr>\n      <th>66</th>\n      <td>Zam Wesell</td>\n      <td>168.0</td>\n      <td>55.0</td>\n      <td>blonde</td>\n      <td>fair, green, yellow</td>\n      <td>yellow</td>\n      <td>NaN</td>\n      <td>female</td>\n      <td>Zolan</td>\n      <td>Clawdite</td>\n      <td>Attack of the Clones</td>\n      <td>Koro-2 Exodrive airspeeder</td>\n      <td>NaN</td>\n    </tr>\n    <tr>\n      <th>76</th>\n      <td>Grievous</td>\n      <td>216.0</td>\n      <td>159.0</td>\n      <td>none</td>\n      <td>brown, white</td>\n      <td>green, yellow</td>\n      <td>NaN</td>\n      <td>male</td>\n      <td>Kalee</td>\n      <td>Kaleesh</td>\n      <td>Revenge of the Sith</td>\n      <td>Tsmeu-6 personal wheel bike</td>\n      <td>Belbullab-22 starfighter</td>\n    </tr>\n    <tr>\n      <th>83</th>\n      <td>Poe Dameron</td>\n      <td>NaN</td>\n      <td>NaN</td>\n      <td>brown</td>\n      <td>light</td>\n      <td>brown</td>\n      <td>NaN</td>\n      <td>male</td>\n      <td>NaN</td>\n      <td>Human</td>\n      <td>The Force Awakens</td>\n      <td>NaN</td>\n      <td>T-70 X-wing fighter</td>\n    </tr>\n  </tbody>\n</table>\n</div>"
     },
     "execution_count": 25,
     "metadata": {},
     "output_type": "execute_result"
    }
   ],
   "source": [
    "drop_data = data.drop_duplicates(subset=['vehicles', 'starships'])\n",
    "drop_data"
   ],
   "metadata": {
    "collapsed": false,
    "ExecuteTime": {
     "end_time": "2023-12-17T13:09:19.734340800Z",
     "start_time": "2023-12-17T13:09:19.707260500Z"
    }
   },
   "id": "bebdf811e213fc1b"
  },
  {
   "cell_type": "markdown",
   "source": [
    "Получили выходные данные без дубликатов по двум колонкам. Теперь давайте выведем одно из значений."
   ],
   "metadata": {
    "collapsed": false
   },
   "id": "a2ef31a1a78a0991"
  },
  {
   "cell_type": "code",
   "execution_count": 26,
   "outputs": [
    {
     "data": {
      "text/plain": "             name  height  weight     hair_color skin_color  eye_color   age  \\\n9  Obi-Wan Kenobi   182.0    77.0  auburn, white       fair  blue-gray  57.0   \n\n    sex homeland species                                              films  \\\n9  male  Stewjon   Human  The Empire Strikes Back, Attack of the Clones,...   \n\n          vehicles                                          starships  \n9  Tribubble bongo  Jedi starfighter, Trade Federation cruiser, Na...  ",
      "text/html": "<div>\n<style scoped>\n    .dataframe tbody tr th:only-of-type {\n        vertical-align: middle;\n    }\n\n    .dataframe tbody tr th {\n        vertical-align: top;\n    }\n\n    .dataframe thead th {\n        text-align: right;\n    }\n</style>\n<table border=\"1\" class=\"dataframe\">\n  <thead>\n    <tr style=\"text-align: right;\">\n      <th></th>\n      <th>name</th>\n      <th>height</th>\n      <th>weight</th>\n      <th>hair_color</th>\n      <th>skin_color</th>\n      <th>eye_color</th>\n      <th>age</th>\n      <th>sex</th>\n      <th>homeland</th>\n      <th>species</th>\n      <th>films</th>\n      <th>vehicles</th>\n      <th>starships</th>\n    </tr>\n  </thead>\n  <tbody>\n    <tr>\n      <th>9</th>\n      <td>Obi-Wan Kenobi</td>\n      <td>182.0</td>\n      <td>77.0</td>\n      <td>auburn, white</td>\n      <td>fair</td>\n      <td>blue-gray</td>\n      <td>57.0</td>\n      <td>male</td>\n      <td>Stewjon</td>\n      <td>Human</td>\n      <td>The Empire Strikes Back, Attack of the Clones,...</td>\n      <td>Tribubble bongo</td>\n      <td>Jedi starfighter, Trade Federation cruiser, Na...</td>\n    </tr>\n  </tbody>\n</table>\n</div>"
     },
     "execution_count": 26,
     "metadata": {},
     "output_type": "execute_result"
    }
   ],
   "source": [
    "value = data.loc[data['name'] == 'Obi-Wan Kenobi']\n",
    "value"
   ],
   "metadata": {
    "collapsed": false,
    "ExecuteTime": {
     "end_time": "2023-12-17T13:10:53.589453800Z",
     "start_time": "2023-12-17T13:10:53.561923900Z"
    }
   },
   "id": "8595f54fb9c8382a"
  },
  {
   "cell_type": "markdown",
   "source": [
    "Мы получили интересующего нас персонажа. Далее стоит вывести все значения, которые подходят под условие."
   ],
   "metadata": {
    "collapsed": false
   },
   "id": "683e826c49445687"
  },
  {
   "cell_type": "code",
   "execution_count": 28,
   "outputs": [
    {
     "data": {
      "text/plain": "              name  height  weight     hair_color skin_color  eye_color   age  \\\n9   Obi-Wan Kenobi   182.0    77.0  auburn, white       fair  blue-gray  57.0   \n16  Wedge Antilles   170.0    77.0          brown       fair      hazel  21.0   \n0   Luke Skywalker   172.0    77.0          blond       fair       blue  19.0   \n\n     sex  homeland species                                              films  \\\n9   male   Stewjon   Human  The Empire Strikes Back, Attack of the Clones,...   \n16  male  Corellia   Human  The Empire Strikes Back, Return of the Jedi, A...   \n0   male  Tatooine   Human  The Empire Strikes Back, Revenge of the Sith, ...   \n\n                              vehicles  \\\n9                      Tribubble bongo   \n16                         Snowspeeder   \n0   Snowspeeder, Imperial Speeder Bike   \n\n                                            starships  \n9   Jedi starfighter, Trade Federation cruiser, Na...  \n16                                             X-wing  \n0                            X-wing, Imperial shuttle  ",
      "text/html": "<div>\n<style scoped>\n    .dataframe tbody tr th:only-of-type {\n        vertical-align: middle;\n    }\n\n    .dataframe tbody tr th {\n        vertical-align: top;\n    }\n\n    .dataframe thead th {\n        text-align: right;\n    }\n</style>\n<table border=\"1\" class=\"dataframe\">\n  <thead>\n    <tr style=\"text-align: right;\">\n      <th></th>\n      <th>name</th>\n      <th>height</th>\n      <th>weight</th>\n      <th>hair_color</th>\n      <th>skin_color</th>\n      <th>eye_color</th>\n      <th>age</th>\n      <th>sex</th>\n      <th>homeland</th>\n      <th>species</th>\n      <th>films</th>\n      <th>vehicles</th>\n      <th>starships</th>\n    </tr>\n  </thead>\n  <tbody>\n    <tr>\n      <th>9</th>\n      <td>Obi-Wan Kenobi</td>\n      <td>182.0</td>\n      <td>77.0</td>\n      <td>auburn, white</td>\n      <td>fair</td>\n      <td>blue-gray</td>\n      <td>57.0</td>\n      <td>male</td>\n      <td>Stewjon</td>\n      <td>Human</td>\n      <td>The Empire Strikes Back, Attack of the Clones,...</td>\n      <td>Tribubble bongo</td>\n      <td>Jedi starfighter, Trade Federation cruiser, Na...</td>\n    </tr>\n    <tr>\n      <th>16</th>\n      <td>Wedge Antilles</td>\n      <td>170.0</td>\n      <td>77.0</td>\n      <td>brown</td>\n      <td>fair</td>\n      <td>hazel</td>\n      <td>21.0</td>\n      <td>male</td>\n      <td>Corellia</td>\n      <td>Human</td>\n      <td>The Empire Strikes Back, Return of the Jedi, A...</td>\n      <td>Snowspeeder</td>\n      <td>X-wing</td>\n    </tr>\n    <tr>\n      <th>0</th>\n      <td>Luke Skywalker</td>\n      <td>172.0</td>\n      <td>77.0</td>\n      <td>blond</td>\n      <td>fair</td>\n      <td>blue</td>\n      <td>19.0</td>\n      <td>male</td>\n      <td>Tatooine</td>\n      <td>Human</td>\n      <td>The Empire Strikes Back, Revenge of the Sith, ...</td>\n      <td>Snowspeeder, Imperial Speeder Bike</td>\n      <td>X-wing, Imperial shuttle</td>\n    </tr>\n  </tbody>\n</table>\n</div>"
     },
     "execution_count": 28,
     "metadata": {},
     "output_type": "execute_result"
    }
   ],
   "source": [
    "values = data.loc[data['weight'] == 77.0]\n",
    "values"
   ],
   "metadata": {
    "collapsed": false,
    "ExecuteTime": {
     "end_time": "2023-12-17T13:12:52.805815600Z",
     "start_time": "2023-12-17T13:12:52.780097100Z"
    }
   },
   "id": "8953126eac55ab0c"
  },
  {
   "cell_type": "markdown",
   "source": [
    "Данные строчки подходят под наше условие веса персонажа.\n",
    "Давайте попробуем экспортировать наш новый файл сначала в html, а затем в csv."
   ],
   "metadata": {
    "collapsed": false
   },
   "id": "fe6d4ef63b02d6e"
  },
  {
   "cell_type": "code",
   "execution_count": 29,
   "outputs": [],
   "source": [
    "data.to_html('star_wars_page.html', index=False)"
   ],
   "metadata": {
    "collapsed": false,
    "ExecuteTime": {
     "end_time": "2023-12-17T13:15:08.113538800Z",
     "start_time": "2023-12-17T13:15:08.080625900Z"
    }
   },
   "id": "4ba6ae0331c4ef8"
  },
  {
   "cell_type": "code",
   "execution_count": 30,
   "outputs": [],
   "source": [
    "data.to_csv('new_sw_dataset.csv', index=False)"
   ],
   "metadata": {
    "collapsed": false,
    "ExecuteTime": {
     "end_time": "2023-12-17T13:15:26.410185600Z",
     "start_time": "2023-12-17T13:15:26.381834700Z"
    }
   },
   "id": "ccaf7ee03db3e45a"
  },
  {
   "cell_type": "markdown",
   "source": [
    "Вывод: в ходе работы успешно удалось научиться работать с библиотекой pandas в Python для обработки датасетов, используя файл Jupyter Notebook. Освоить базовые функции для работы с данными в форматах, таких как csv."
   ],
   "metadata": {
    "collapsed": false
   },
   "id": "5f8bfb56b7a60715"
  }
 ],
 "metadata": {
  "kernelspec": {
   "display_name": "Python 3",
   "language": "python",
   "name": "python3"
  },
  "language_info": {
   "codemirror_mode": {
    "name": "ipython",
    "version": 2
   },
   "file_extension": ".py",
   "mimetype": "text/x-python",
   "name": "python",
   "nbconvert_exporter": "python",
   "pygments_lexer": "ipython2",
   "version": "2.7.6"
  }
 },
 "nbformat": 4,
 "nbformat_minor": 5
}
